{
  "nbformat": 4,
  "nbformat_minor": 0,
  "metadata": {
    "colab": {
      "name": "7_1dCNN.ipynb",
      "version": "0.3.2",
      "provenance": [],
      "collapsed_sections": [],
      "include_colab_link": true
    },
    "kernelspec": {
      "name": "python3",
      "display_name": "Python 3"
    },
    "accelerator": "TPU"
  },
  "cells": [
    {
      "cell_type": "markdown",
      "metadata": {
        "id": "view-in-github",
        "colab_type": "text"
      },
      "source": [
        "<a href=\"https://colab.research.google.com/github/unoki/colabtest/blob/master/7_1dCNN.ipynb\" target=\"_parent\"><img src=\"https://colab.research.google.com/assets/colab-badge.svg\" alt=\"Open In Colab\"/></a>"
      ]
    },
    {
      "metadata": {
        "id": "26g-3iXfCsyA",
        "colab_type": "text"
      },
      "cell_type": "markdown",
      "source": [
        "# 第7章　1次元畳み込みニューラルネットワークによる異常検知（プログラム）\n",
        "\n",
        "第７章では、1次元畳み込みニューラルネットワークによる異常検知のプログラムを実行します。\n",
        "\n",
        "\n",
        "### 学習項目\n",
        "\n",
        "1. 準備\n",
        "2. データの準備\n",
        "3. モデルの定義\n",
        "4. パラメータの設定\n",
        "5. トレーニング\n",
        "6. 評価\n",
        "\n",
        "### 使用するファイル\n",
        "- 7_1dCNN.ipynb （このファイルです）\n",
        "- data/X.csv (心電図の波形データ)\n",
        "- data/y.csv (正解ラベル)\n",
        "\n",
        "### データセット\n",
        "\n",
        "- MIT-BIH Arrhythmia Databaseで公開されている心電図データから一部を抜粋し、本セミナー用に前処理を行いました。\n",
        "- 元データでRとラベルのついた波形のピークの前後１秒づつ、計２秒を切り出して一つのデータとしました。事前に標準化を行いました。\n",
        "- サンプリングレート180Hzで、一つのデータは２秒分で360点からなります。\n",
        "- 各データには、正常か異常かの正解ラベルがついてます。\n",
        "- 波形のデータはX.csvに、対応する正解ラベルはy.csvに保存されています。\n",
        "- 正解ラベルは数値が割り当てられており、0が正常、1が異常です。\n",
        "\n",
        "\n",
        "# 1. 準備\n",
        "###  必要なライブラリの読み込み\n",
        "\n",
        "- NumPy：モデル入力用のデータを作成するために使用します。\n",
        "- Matplotlib：データの可視化に使用します。\n",
        "- keras：ニューラルネットワークのためのライブラリです。\n",
        "- scikit-learn：機械学習用のライブラリです。データの分割、結果の評価に使用します。"
      ]
    },
    {
      "metadata": {
        "id": "vSt4ZF4pCsyC",
        "colab_type": "code",
        "colab": {}
      },
      "cell_type": "code",
      "source": [
        "import matplotlib.pyplot as plt \n",
        "import numpy as np\n",
        "import pandas as pd\n",
        "\n",
        "from keras.models import Sequential\n",
        "from keras.layers import Dense, Activation, Flatten, Conv1D, Dropout\n",
        "from keras.optimizers import SGD\n",
        "from keras.utils.np_utils import to_categorical\n",
        "\n",
        "from sklearn.model_selection import train_test_split\n",
        "from sklearn.metrics import accuracy_score\n",
        "from sklearn.metrics import confusion_matrix\n",
        "from sklearn.metrics import classification_report\n",
        "import keras.backend as K"
      ],
      "execution_count": 0,
      "outputs": []
    },
    {
      "metadata": {
        "id": "0nDp5s4UCsyO",
        "colab_type": "text"
      },
      "cell_type": "markdown",
      "source": [
        "### バックエンドのグラフ識別子をリセット"
      ]
    },
    {
      "metadata": {
        "id": "Fs0-8uZ4CsyR",
        "colab_type": "code",
        "colab": {
          "base_uri": "https://localhost:8080/",
          "height": 34
        },
        "outputId": "c7312407-0813-4ea4-ea30-cffdd7ad9734"
      },
      "cell_type": "code",
      "source": [
        "K.clear_session"
      ],
      "execution_count": 6,
      "outputs": [
        {
          "output_type": "execute_result",
          "data": {
            "text/plain": [
              "<function keras.backend.tensorflow_backend.clear_session>"
            ]
          },
          "metadata": {
            "tags": []
          },
          "execution_count": 6
        }
      ]
    },
    {
      "metadata": {
        "id": "5WwPPrcZCsyW",
        "colab_type": "text"
      },
      "cell_type": "markdown",
      "source": [
        "### カレントディレクトリの移動"
      ]
    },
    {
      "metadata": {
        "id": "OWHwdOlwCsyX",
        "colab_type": "code",
        "colab": {
          "base_uri": "https://localhost:8080/",
          "height": 52
        },
        "outputId": "5f81129a-8c45-43a8-93b4-d575c7cbbf35"
      },
      "cell_type": "code",
      "source": [
        "from google.colab import drive\n",
        "drive.mount('/gdrive')\n",
        "%cd \"/gdrive/My Drive/Colab Notebooks/jasla_rensyuu_20190202\""
      ],
      "execution_count": 7,
      "outputs": [
        {
          "output_type": "stream",
          "text": [
            "Drive already mounted at /gdrive; to attempt to forcibly remount, call drive.mount(\"/gdrive\", force_remount=True).\n",
            "/gdrive/My Drive/Colab Notebooks/jasla_rensyuu_20190202\n"
          ],
          "name": "stdout"
        }
      ]
    },
    {
      "metadata": {
        "id": "-C21S8XtCsya",
        "colab_type": "text"
      },
      "cell_type": "markdown",
      "source": [
        "# 2. データの準備\n",
        "\n",
        "### CSVファイルからデータを読み込む\n",
        "\n",
        "- csvファイルから Pandas の DataFrame としてデータを読み込みます。\n",
        "- 波形データを変数 X_df に、正解ラベルを変数 y_df に読み込んでみましょう。\n",
        "- X.csvはヘッダー行を含まないファイルのため、read_csv関数のパラメータでheader=Noneを指定します。"
      ]
    },
    {
      "metadata": {
        "id": "oHchB46lCsya",
        "colab_type": "code",
        "colab": {}
      },
      "cell_type": "code",
      "source": [
        "x_df = pd.read_csv('data/X.csv', header=None)\n",
        "y_df = pd.read_csv('data/y.csv')"
      ],
      "execution_count": 0,
      "outputs": []
    },
    {
      "metadata": {
        "id": "2Anzzqf9Csyd",
        "colab_type": "text"
      },
      "cell_type": "markdown",
      "source": [
        "### データのサイズを確認してみましょう\n",
        "\n",
        "- データの行と列の数を確認するには、shape を使います。\n",
        "- shapeは関数ではないので、カッコが不要です。"
      ]
    },
    {
      "metadata": {
        "id": "J4ifQrh8Csye",
        "colab_type": "code",
        "colab": {
          "base_uri": "https://localhost:8080/",
          "height": 34
        },
        "outputId": "b9d21659-59c6-4089-c965-d5c4f2445fe3"
      },
      "cell_type": "code",
      "source": [
        "x_df.shape\n"
      ],
      "execution_count": 9,
      "outputs": [
        {
          "output_type": "execute_result",
          "data": {
            "text/plain": [
              "(12260, 360)"
            ]
          },
          "metadata": {
            "tags": []
          },
          "execution_count": 9
        }
      ]
    },
    {
      "metadata": {
        "id": "4i9iExuFCsyh",
        "colab_type": "code",
        "colab": {
          "base_uri": "https://localhost:8080/",
          "height": 34
        },
        "outputId": "c3ddae2b-c16f-4fd2-a775-95013aaa8dec"
      },
      "cell_type": "code",
      "source": [
        "y_df.shape"
      ],
      "execution_count": 10,
      "outputs": [
        {
          "output_type": "execute_result",
          "data": {
            "text/plain": [
              "(12260, 1)"
            ]
          },
          "metadata": {
            "tags": []
          },
          "execution_count": 10
        }
      ]
    },
    {
      "metadata": {
        "id": "ipKRGWGoCsyk",
        "colab_type": "text"
      },
      "cell_type": "markdown",
      "source": [
        "### データの一部を表示してみましょう\n",
        "\n",
        "- データの一部を表示するには、head関数や、tail関数を使います。\n",
        "- 他に長いデータの場合、.Tを使って転置をすると、見やすくなる場合があります。"
      ]
    },
    {
      "metadata": {
        "id": "libYYYIACsyl",
        "colab_type": "code",
        "colab": {
          "base_uri": "https://localhost:8080/",
          "height": 77
        },
        "outputId": "1e0ac576-dd42-498f-f719-1511dac426eb"
      },
      "cell_type": "code",
      "source": [
        "y_df.head(20).T"
      ],
      "execution_count": 11,
      "outputs": [
        {
          "output_type": "execute_result",
          "data": {
            "text/html": [
              "<div>\n",
              "<style scoped>\n",
              "    .dataframe tbody tr th:only-of-type {\n",
              "        vertical-align: middle;\n",
              "    }\n",
              "\n",
              "    .dataframe tbody tr th {\n",
              "        vertical-align: top;\n",
              "    }\n",
              "\n",
              "    .dataframe thead th {\n",
              "        text-align: right;\n",
              "    }\n",
              "</style>\n",
              "<table border=\"1\" class=\"dataframe\">\n",
              "  <thead>\n",
              "    <tr style=\"text-align: right;\">\n",
              "      <th></th>\n",
              "      <th>0</th>\n",
              "      <th>1</th>\n",
              "      <th>2</th>\n",
              "      <th>3</th>\n",
              "      <th>4</th>\n",
              "      <th>5</th>\n",
              "      <th>6</th>\n",
              "      <th>7</th>\n",
              "      <th>8</th>\n",
              "      <th>9</th>\n",
              "      <th>10</th>\n",
              "      <th>11</th>\n",
              "      <th>12</th>\n",
              "      <th>13</th>\n",
              "      <th>14</th>\n",
              "      <th>15</th>\n",
              "      <th>16</th>\n",
              "      <th>17</th>\n",
              "      <th>18</th>\n",
              "      <th>19</th>\n",
              "    </tr>\n",
              "  </thead>\n",
              "  <tbody>\n",
              "    <tr>\n",
              "      <th>y</th>\n",
              "      <td>0</td>\n",
              "      <td>0</td>\n",
              "      <td>0</td>\n",
              "      <td>0</td>\n",
              "      <td>0</td>\n",
              "      <td>0</td>\n",
              "      <td>0</td>\n",
              "      <td>0</td>\n",
              "      <td>0</td>\n",
              "      <td>0</td>\n",
              "      <td>0</td>\n",
              "      <td>0</td>\n",
              "      <td>0</td>\n",
              "      <td>0</td>\n",
              "      <td>0</td>\n",
              "      <td>0</td>\n",
              "      <td>0</td>\n",
              "      <td>0</td>\n",
              "      <td>0</td>\n",
              "      <td>0</td>\n",
              "    </tr>\n",
              "  </tbody>\n",
              "</table>\n",
              "</div>"
            ],
            "text/plain": [
              "   0   1   2   3   4   5   6   7   8   9   10  11  12  13  14  15  16  17  18  \\\n",
              "y   0   0   0   0   0   0   0   0   0   0   0   0   0   0   0   0   0   0   0   \n",
              "\n",
              "   19  \n",
              "y   0  "
            ]
          },
          "metadata": {
            "tags": []
          },
          "execution_count": 11
        }
      ]
    },
    {
      "metadata": {
        "id": "CYp0v2NtCsyo",
        "colab_type": "text"
      },
      "cell_type": "markdown",
      "source": [
        "### 異常値の割合を確認してみましょう\n",
        "- Seriesのvalue_counts関数を使うとデータの値の出現回数を数えることができます。\n",
        "- y_dfはDataFrameのなので、列を指定して Seriesとします。\n",
        "- value_counts関数のnormalizeパラメータをTrueとすると、割合が分かります。"
      ]
    },
    {
      "metadata": {
        "id": "7ixepCbVCsyp",
        "colab_type": "code",
        "colab": {
          "base_uri": "https://localhost:8080/",
          "height": 70
        },
        "outputId": "f156f4df-6006-4185-cc41-c4e75b9682df"
      },
      "cell_type": "code",
      "source": [
        "y_df['y'].value_counts(True)"
      ],
      "execution_count": 12,
      "outputs": [
        {
          "output_type": "execute_result",
          "data": {
            "text/plain": [
              "0    0.961093\n",
              "1    0.038907\n",
              "Name: y, dtype: float64"
            ]
          },
          "metadata": {
            "tags": []
          },
          "execution_count": 12
        }
      ]
    },
    {
      "metadata": {
        "id": "D4W59HNnCsyt",
        "colab_type": "text"
      },
      "cell_type": "markdown",
      "source": [
        "\n",
        "### トレーニングデータとテストデータに分割\n",
        "\n",
        "- データを訓練データと、テストデータに分けます。60％を訓練データに、40％をテストデータに使います。\n",
        "- データの分割は、scikit-learnライブラリのtrain_test_splitが便利です。\n",
        "- train_test_splitは、第1引数に入力データ、第2引数に正解ラベルを渡します。test_sizeではテストデータの割合を0.0～1.0の実数で指定します。\n",
        "デフォルトではランダムにシャッフルして分割します。 random_stateに任意の整数を指定して、乱数のシードを固定することで、同じ分割を再現できます。\n",
        "- トレーニング用データを変数x_trainとy_trainに、テスト用データを変数x_testとy_testに代入しましょう。\n",
        "- 分割後のデータのサイズや、異常値の割合も確認しておきましょう。"
      ]
    },
    {
      "metadata": {
        "id": "kmw-pLfRCsyu",
        "colab_type": "code",
        "colab": {}
      },
      "cell_type": "code",
      "source": [
        "x_train, x_test, y_train, y_test  = train_test_split(x_df, y_df, test_size=0.4, random_state=0)"
      ],
      "execution_count": 0,
      "outputs": []
    },
    {
      "metadata": {
        "id": "HZ_ULmZZCsyx",
        "colab_type": "code",
        "colab": {
          "base_uri": "https://localhost:8080/",
          "height": 34
        },
        "outputId": "00a6fac9-bec5-4594-ef19-ca7c71f540c5"
      },
      "cell_type": "code",
      "source": [
        "x_train.shape, x_test.shape"
      ],
      "execution_count": 14,
      "outputs": [
        {
          "output_type": "execute_result",
          "data": {
            "text/plain": [
              "((7356, 360), (4904, 360))"
            ]
          },
          "metadata": {
            "tags": []
          },
          "execution_count": 14
        }
      ]
    },
    {
      "metadata": {
        "id": "S-pPJv3MCsy0",
        "colab_type": "code",
        "colab": {
          "base_uri": "https://localhost:8080/",
          "height": 70
        },
        "outputId": "102f79c8-a760-4320-a110-cb1bcf111d15"
      },
      "cell_type": "code",
      "source": [
        "y_train['y'].value_counts(normalize=True)"
      ],
      "execution_count": 15,
      "outputs": [
        {
          "output_type": "execute_result",
          "data": {
            "text/plain": [
              "0    0.9618\n",
              "1    0.0382\n",
              "Name: y, dtype: float64"
            ]
          },
          "metadata": {
            "tags": []
          },
          "execution_count": 15
        }
      ]
    },
    {
      "metadata": {
        "id": "n4sv8j3HCsy5",
        "colab_type": "code",
        "colab": {
          "base_uri": "https://localhost:8080/",
          "height": 70
        },
        "outputId": "b8965322-9bb0-4688-9b2b-3bcb611ba7aa"
      },
      "cell_type": "code",
      "source": [
        "y_test['y'].value_counts(normalize=True)"
      ],
      "execution_count": 16,
      "outputs": [
        {
          "output_type": "execute_result",
          "data": {
            "text/plain": [
              "0    0.960033\n",
              "1    0.039967\n",
              "Name: y, dtype: float64"
            ]
          },
          "metadata": {
            "tags": []
          },
          "execution_count": 16
        }
      ]
    },
    {
      "metadata": {
        "id": "AZc_5rOvCsy9",
        "colab_type": "text"
      },
      "cell_type": "markdown",
      "source": [
        "### 3階のテンソルへの変換\n",
        "- Kerasの1次元の畳み込みレイヤーConv1Dへの入力は、Shapeが(batch_size, steps, input_dim)の3階テンソルにします。\n",
        "(https://keras.io/ja/layers/convolutional/)\n",
        "- reshape関数で変換をし、変換後のデータは、それぞれ変数 X_train と X_testに代入しましょう。"
      ]
    },
    {
      "metadata": {
        "id": "oTIsqbaICsy-",
        "colab_type": "code",
        "colab": {}
      },
      "cell_type": "code",
      "source": [
        "X_train = x_train.values.reshape(x_train.shape[0], x_train.shape[1], 1)\n",
        "X_test =  x_test.values.reshape(x_test.shape[0], x_test.shape[1], 1)"
      ],
      "execution_count": 0,
      "outputs": []
    },
    {
      "metadata": {
        "id": "sPOjCTB9CszA",
        "colab_type": "code",
        "colab": {
          "base_uri": "https://localhost:8080/",
          "height": 34
        },
        "outputId": "71ad6408-0061-4a9d-9afe-cf9d8b9d628d"
      },
      "cell_type": "code",
      "source": [
        "X_train.shape, X_test.shape"
      ],
      "execution_count": 18,
      "outputs": [
        {
          "output_type": "execute_result",
          "data": {
            "text/plain": [
              "((7356, 360, 1), (4904, 360, 1))"
            ]
          },
          "metadata": {
            "tags": []
          },
          "execution_count": 18
        }
      ]
    },
    {
      "metadata": {
        "id": "IttYFLg0CszE",
        "colab_type": "text"
      },
      "cell_type": "markdown",
      "source": [
        "### 正解レベルのOne-hot表現への変換\n",
        "\n",
        "- 正解ラベルをOne-hot表現に変換します。すなわち、0（正常）または1（異常）と１列で表現されていた正解ラベルデータを、１列目が１ならば正常、２列名が１なら異常と、2列で表現するようにします。\n",
        "- Kerasのto_categorical関数を利用します。\n",
        "- ２値分類問題のときには必須ではありませんが、多値分類問題のときには必要な処理になります。\n",
        "- 変換後の正解ラベルデータを、y_train_cおよびy_test_cに代入しましょう。"
      ]
    },
    {
      "metadata": {
        "id": "fbWDeQ6ACszF",
        "colab_type": "code",
        "colab": {}
      },
      "cell_type": "code",
      "source": [
        "n_class = 2\n",
        "y_train_c = to_categorical(y_train, n_class)\n",
        "y_test_c = to_categorical(y_test, n_class)"
      ],
      "execution_count": 0,
      "outputs": []
    },
    {
      "metadata": {
        "id": "6BkYh_U5CszH",
        "colab_type": "code",
        "colab": {
          "base_uri": "https://localhost:8080/",
          "height": 34
        },
        "outputId": "296eb0bc-a208-401e-c55f-b5db4f98693c"
      },
      "cell_type": "code",
      "source": [
        "y_train_c.shape, y_test_c.shape"
      ],
      "execution_count": 20,
      "outputs": [
        {
          "output_type": "execute_result",
          "data": {
            "text/plain": [
              "((7356, 2), (4904, 2))"
            ]
          },
          "metadata": {
            "tags": []
          },
          "execution_count": 20
        }
      ]
    },
    {
      "metadata": {
        "id": "O1QPeYRhCszL",
        "colab_type": "text"
      },
      "cell_type": "markdown",
      "source": [
        "\n",
        "# 3. モデルの定義\n",
        "\n",
        "- KerasのSequentialモデルを使います。\n",
        "\n",
        "- 1次元の畳み込み層は、Conv1Dです。フィルターの数と、カーネルのサイズを指定します。\n",
        "- 全結合層（Dense）に渡す前に、Flattenを呼びましょう。\n",
        "- Dropoutも追加できます。\n"
      ]
    },
    {
      "metadata": {
        "id": "6jR5GTxOCszL",
        "colab_type": "code",
        "colab": {}
      },
      "cell_type": "code",
      "source": [
        "model = Sequential()\n",
        "model.add(Conv1D(filters=64, kernel_size=10, input_shape=(X_train.shape[1], 1)))\n",
        "model.add(Activation('relu'))\n",
        "model.add(Flatten())\n",
        "model.add(Dropout(0.4)) \n",
        "model.add(Dense(128, activation='relu'))  \n",
        "model.add(Dense(n_class))\n",
        "model.add(Activation('softmax'))"
      ],
      "execution_count": 0,
      "outputs": []
    },
    {
      "metadata": {
        "id": "mkIGIe69CszN",
        "colab_type": "text"
      },
      "cell_type": "markdown",
      "source": [
        "- summary関数で、モデルのが概要を確認できます。"
      ]
    },
    {
      "metadata": {
        "id": "wtW0OOoICszO",
        "colab_type": "code",
        "colab": {
          "base_uri": "https://localhost:8080/",
          "height": 386
        },
        "outputId": "a033ef19-c6ae-44ea-d2cd-973588d502cf"
      },
      "cell_type": "code",
      "source": [
        "model.summary()"
      ],
      "execution_count": 22,
      "outputs": [
        {
          "output_type": "stream",
          "text": [
            "_________________________________________________________________\n",
            "Layer (type)                 Output Shape              Param #   \n",
            "=================================================================\n",
            "conv1d_1 (Conv1D)            (None, 351, 64)           704       \n",
            "_________________________________________________________________\n",
            "activation_1 (Activation)    (None, 351, 64)           0         \n",
            "_________________________________________________________________\n",
            "flatten_1 (Flatten)          (None, 22464)             0         \n",
            "_________________________________________________________________\n",
            "dropout_1 (Dropout)          (None, 22464)             0         \n",
            "_________________________________________________________________\n",
            "dense_1 (Dense)              (None, 128)               2875520   \n",
            "_________________________________________________________________\n",
            "dense_2 (Dense)              (None, 2)                 258       \n",
            "_________________________________________________________________\n",
            "activation_2 (Activation)    (None, 2)                 0         \n",
            "=================================================================\n",
            "Total params: 2,876,482\n",
            "Trainable params: 2,876,482\n",
            "Non-trainable params: 0\n",
            "_________________________________________________________________\n"
          ],
          "name": "stdout"
        }
      ]
    },
    {
      "metadata": {
        "id": "UdWL-uYgCszR",
        "colab_type": "text"
      },
      "cell_type": "markdown",
      "source": [
        "# 4. パラメータの設定\n",
        "\n",
        "- compile関数を用いてどのような学習処理を行なうかを設定を行います。\n",
        "- 今回は、損失関数にカテゴリカルクロスエントロピー、最適化アルゴリズムに確率的勾配降下法（SGD）を指定します。\n",
        "- 細かいパラメータは、すべてデフォルトのままとしました。"
      ]
    },
    {
      "metadata": {
        "id": "61CEIRzKCszR",
        "colab_type": "code",
        "colab": {}
      },
      "cell_type": "code",
      "source": [
        "model.compile(loss='categorical_crossentropy',\n",
        "              optimizer='sgd')"
      ],
      "execution_count": 0,
      "outputs": []
    },
    {
      "metadata": {
        "id": "nZuPS8UgCszT",
        "colab_type": "text"
      },
      "cell_type": "markdown",
      "source": [
        "# 5. トレーニング\n",
        "\n",
        "- 入力データと教師データ（正解ラベル）を使って、モデルのトレーニング（学習）を行います。\n",
        "- モデルをトレーニングには，fit関数を使います。\n",
        "- fit関数には、トレーニングの入力データと教師データ、ミニバッチのサイズ(batch_size)、エポック数などを渡します。"
      ]
    },
    {
      "metadata": {
        "id": "LnxRW9FGCszU",
        "colab_type": "code",
        "colab": {
          "base_uri": "https://localhost:8080/",
          "height": 298
        },
        "outputId": "ecb20343-128c-477c-a65b-62896d092824"
      },
      "cell_type": "code",
      "source": [
        "epochs = 8\n",
        "history = model.fit(X_train, y_train_c, epochs=epochs)"
      ],
      "execution_count": 24,
      "outputs": [
        {
          "output_type": "stream",
          "text": [
            "Epoch 1/8\n",
            "7356/7356 [==============================] - 21s 3ms/step - loss: 0.0583\n",
            "Epoch 2/8\n",
            "7356/7356 [==============================] - 20s 3ms/step - loss: 0.0173\n",
            "Epoch 3/8\n",
            "7356/7356 [==============================] - 20s 3ms/step - loss: 0.0112\n",
            "Epoch 4/8\n",
            "7356/7356 [==============================] - 20s 3ms/step - loss: 0.0080\n",
            "Epoch 5/8\n",
            "7356/7356 [==============================] - 20s 3ms/step - loss: 0.0062\n",
            "Epoch 6/8\n",
            "7356/7356 [==============================] - 21s 3ms/step - loss: 0.0049\n",
            "Epoch 7/8\n",
            "7356/7356 [==============================] - 20s 3ms/step - loss: 0.0043\n",
            "Epoch 8/8\n",
            "7356/7356 [==============================] - 21s 3ms/step - loss: 0.0036\n"
          ],
          "name": "stdout"
        }
      ]
    },
    {
      "metadata": {
        "id": "nvTQME5BCszW",
        "colab_type": "code",
        "colab": {
          "base_uri": "https://localhost:8080/",
          "height": 334
        },
        "outputId": "b7420d34-b693-448d-8b97-f1ad782a72fc"
      },
      "cell_type": "code",
      "source": [
        "plt.figure(figsize=(8, 5))\n",
        "plt.plot(history.history['loss'])\n",
        "plt.ylabel('loss')\n",
        "plt.xlabel('epoch')\n",
        "plt.show()"
      ],
      "execution_count": 25,
      "outputs": [
        {
          "output_type": "display_data",
          "data": {
            "image/png": "[encoded data removed]",
            "text/plain": [
              "<Figure size 576x360 with 1 Axes>"
            ]
          },
          "metadata": {
            "tags": []
          }
        }
      ]
    },
    {
      "metadata": {
        "id": "vS23Nz4YCszY",
        "colab_type": "text"
      },
      "cell_type": "markdown",
      "source": [
        "# 6. 評価\n",
        "\n",
        "\n",
        "- テストデータを使って、トレーニング済みモデルの評価を行います。\n"
      ]
    },
    {
      "metadata": {
        "id": "cl1XNniKCsza",
        "colab_type": "text"
      },
      "cell_type": "markdown",
      "source": [
        "### テストデータからトレーニング済みモデルを使って予測\n",
        "\n",
        "- predict_classes関数にテストデータを渡すことで、トレーニング済みモデルによる推定結果を得ることができます。"
      ]
    },
    {
      "metadata": {
        "id": "jydqS06FCsza",
        "colab_type": "code",
        "colab": {}
      },
      "cell_type": "code",
      "source": [
        "y_pred = model.predict_classes(X_test)  "
      ],
      "execution_count": 0,
      "outputs": []
    },
    {
      "metadata": {
        "id": "43pIBopxCszc",
        "colab_type": "text"
      },
      "cell_type": "markdown",
      "source": [
        "### 各種評価指標の算出\n",
        "- 分類問題のモデル評価には、scikit-learnの関数を使うのが便利です。\n",
        "- accuracy_score関数で、正解率を算出できます。"
      ]
    },
    {
      "metadata": {
        "id": "Gxfi7GuECszd",
        "colab_type": "code",
        "colab": {
          "base_uri": "https://localhost:8080/",
          "height": 34
        },
        "outputId": "66454a8b-c7e8-4690-e0cb-99bddb7671d6"
      },
      "cell_type": "code",
      "source": [
        "accuracy_score(y_test, y_pred)"
      ],
      "execution_count": 27,
      "outputs": [
        {
          "output_type": "execute_result",
          "data": {
            "text/plain": [
              "0.9991843393148451"
            ]
          },
          "metadata": {
            "tags": []
          },
          "execution_count": 27
        }
      ]
    },
    {
      "metadata": {
        "id": "Dx4L6dWmCszg",
        "colab_type": "text"
      },
      "cell_type": "markdown",
      "source": [
        "- confusion_matrix関数で、混同行列を表示することができます。"
      ]
    },
    {
      "metadata": {
        "id": "287bHmMoCszh",
        "colab_type": "code",
        "colab": {
          "base_uri": "https://localhost:8080/",
          "height": 52
        },
        "outputId": "4d29f6d2-8dc5-494a-808d-a86955ae62c2"
      },
      "cell_type": "code",
      "source": [
        "confusion_matrix(y_test, y_pred)"
      ],
      "execution_count": 28,
      "outputs": [
        {
          "output_type": "execute_result",
          "data": {
            "text/plain": [
              "array([[4707,    1],\n",
              "       [   3,  193]])"
            ]
          },
          "metadata": {
            "tags": []
          },
          "execution_count": 28
        }
      ]
    },
    {
      "metadata": {
        "id": "Nz5k3nN7Cszk",
        "colab_type": "text"
      },
      "cell_type": "markdown",
      "source": [
        "- 下記では混同行列を見やすくするためのpretty_confusion_matrix関数を定義しました。"
      ]
    },
    {
      "metadata": {
        "id": "K46Kx-KiCszl",
        "colab_type": "code",
        "colab": {
          "base_uri": "https://localhost:8080/",
          "height": 106
        },
        "outputId": "8e8049ea-d29a-4856-bac4-bbb28eb8d6c8"
      },
      "cell_type": "code",
      "source": [
        "def pretty_confusion_matrix(y_true, y_pred, labels=[\"False\", \"True\"]):\n",
        "    cm = confusion_matrix(y_true, y_pred)\n",
        "    pred_labels = ['Predicted '+ l for l in labels]\n",
        "    df = pd.DataFrame(cm, index=labels, columns=pred_labels)\n",
        "    return df\n",
        "\n",
        "pretty_confusion_matrix(y_test, y_pred, ['Normal', 'Abnormal'])"
      ],
      "execution_count": 29,
      "outputs": [
        {
          "output_type": "execute_result",
          "data": {
            "text/html": [
              "<div>\n",
              "<style scoped>\n",
              "    .dataframe tbody tr th:only-of-type {\n",
              "        vertical-align: middle;\n",
              "    }\n",
              "\n",
              "    .dataframe tbody tr th {\n",
              "        vertical-align: top;\n",
              "    }\n",
              "\n",
              "    .dataframe thead th {\n",
              "        text-align: right;\n",
              "    }\n",
              "</style>\n",
              "<table border=\"1\" class=\"dataframe\">\n",
              "  <thead>\n",
              "    <tr style=\"text-align: right;\">\n",
              "      <th></th>\n",
              "      <th>Predicted Normal</th>\n",
              "      <th>Predicted Abnormal</th>\n",
              "    </tr>\n",
              "  </thead>\n",
              "  <tbody>\n",
              "    <tr>\n",
              "      <th>Normal</th>\n",
              "      <td>4707</td>\n",
              "      <td>1</td>\n",
              "    </tr>\n",
              "    <tr>\n",
              "      <th>Abnormal</th>\n",
              "      <td>3</td>\n",
              "      <td>193</td>\n",
              "    </tr>\n",
              "  </tbody>\n",
              "</table>\n",
              "</div>"
            ],
            "text/plain": [
              "          Predicted Normal  Predicted Abnormal\n",
              "Normal                4707                   1\n",
              "Abnormal                 3                 193"
            ]
          },
          "metadata": {
            "tags": []
          },
          "execution_count": 29
        }
      ]
    },
    {
      "metadata": {
        "id": "P2ZJUlGMCszn",
        "colab_type": "text"
      },
      "cell_type": "markdown",
      "source": [
        "- classification_report関数では、精度 (Precision)や、検出率 (Recall) を表示することができます。"
      ]
    },
    {
      "metadata": {
        "id": "VDe5M2WoCszn",
        "colab_type": "code",
        "colab": {
          "base_uri": "https://localhost:8080/",
          "height": 175
        },
        "outputId": "cbb4632d-d4f2-4bd2-b227-3edbb2d649af"
      },
      "cell_type": "code",
      "source": [
        "print(classification_report(y_test, y_pred))"
      ],
      "execution_count": 30,
      "outputs": [
        {
          "output_type": "stream",
          "text": [
            "              precision    recall  f1-score   support\n",
            "\n",
            "           0       1.00      1.00      1.00      4708\n",
            "           1       0.99      0.98      0.99       196\n",
            "\n",
            "   micro avg       1.00      1.00      1.00      4904\n",
            "   macro avg       1.00      0.99      0.99      4904\n",
            "weighted avg       1.00      1.00      1.00      4904\n",
            "\n"
          ],
          "name": "stdout"
        }
      ]
    },
    {
      "metadata": {
        "id": "iBmnCC94Cszq",
        "colab_type": "code",
        "colab": {}
      },
      "cell_type": "code",
      "source": [
        ""
      ],
      "execution_count": 0,
      "outputs": []
    }
  ]
}