{
  "nbformat": 4,
  "nbformat_minor": 0,
  "metadata": {
    "colab": {
      "name": "3_heartbeat-sounds.ipynb",
      "version": "0.3.2",
      "provenance": [],
      "collapsed_sections": [],
      "include_colab_link": true
    },
    "kernelspec": {
      "name": "python3",
      "display_name": "Python 3"
    },
    "accelerator": "TPU"
  },
  "cells": [
    {
      "cell_type": "markdown",
      "metadata": {
        "id": "view-in-github",
        "colab_type": "text"
      },
      "source": [
        "<a href=\"https://colab.research.google.com/github/unoki/colabtest/blob/master/3_heartbeat_sounds.ipynb\" target=\"_parent\"><img src=\"https://colab.research.google.com/assets/colab-badge.svg\" alt=\"Open In Colab\"/></a>"
      ]
    },
    {
      "metadata": {
        "id": "qZ3VPcFIA0Sf",
        "colab_type": "text"
      },
      "cell_type": "markdown",
      "source": [
        "# 第３章　音声ファイルの取り扱いと可視化\n",
        "\n",
        "第３章では、音声ファイル（wav形式）の読み込み方法と、可視化のテクニックについて学びます。\n",
        "Pythonで音声ファイルを読み込む方法は、数多くあります。ここでは、次の２つのライブラリによる方法を実行します。\n",
        "\n",
        "1. SciPy (https://docs.scipy.org/doc/scipy/reference/)\n",
        "    - 高水準の科学技術計算パッケージ\n",
        "    - 統計、線形代数、信号処理、FFTなど、多くの機能がふくまれています。\n",
        "\n",
        "\n",
        "2. LibROSA　(https://librosa.github.io/librosa/index.html)\n",
        "    - 音楽と音声の解析のためのパッケージ\n",
        "    - テンポとビートを推定する機能があります。テンポやビートは、ニューラルネットワークの特徴量として利用することができます。\n",
        "\n",
        "\n",
        "また、本章では特定のフォルダのファイルをまとめて読み込み、可視化をするテクニックについても紹介します。\n",
        "\n",
        "<br>\n",
        "** WAV ( https://ja.wikipedia.org/wiki/WAV )\n",
        "<br><br>\n",
        "\n",
        "### 学習項目\n",
        "\n",
        "1. 準備\n",
        "2. SciPyによるデータの読み込みと確認\n",
        "3. LibROSAによるデータの読み込みと確認\n",
        "4. フォルダー内のファイルをまとめて可視化\n",
        "5. Matplotlibの二つの記法\n",
        "\n",
        "\n",
        "### 使用するファイル\n",
        "- 3_heartbeat-sounds.ipynb （このファイルです）\n",
        "- data/heartbeat/フォルダー以下、複数のwavファイル(音声データファイル)\n",
        "\n",
        "### データセット\n",
        "\n",
        "- 「Classifying Heart Sounds Challenge」は、2012年に開催されたデータ分析コンペです。コンペの課題の一つは心音の分類でした。(http://www.peterjbentley.com/heartchallenge/) \n",
        "- 本章では、Classifying Heart Sounds Challengeで使用されたデータ（812ファイル）のうちの一部の抜粋し、使用します。\n",
        "- データは、iStethoscope ProというiPhoneアプリで取得した心音です。\n",
        "- １秒から30秒までの異なる長さのwav形式の音声ファイルです。\n",
        "\n",
        "\n",
        "　※Bentley, P. and Nordehn, G. and Coimbra, M. and Mannor, S.,\"The PASCAL Classifying Heart Sounds Challenge 2011 (CHSC2011) Results\", \n",
        "\n",
        "\n",
        "# 1. 準備\n",
        "###  必要なライブラリの読み込み\n",
        "\n",
        "- NumPy：グラフの軸の値の設定などに使用します。\n",
        "- os：ファイル名の取得に使用します。OSに依存している機能を利用するためのモジュールです。\n",
        "- glob：ファイル名の取得に利用します。ワイルドカードや正規表現を使ってファイルの検索ができます。\n",
        "- Matplotlib：データの可視化に使用します。\n",
        "- SciPy：音声ファイルの取り込みに利用します。SciPyのioパッケージに含まれるwavfileモジュールを使用します。\n",
        "- LibROSA：音声ファイルの取り込みに利用します。"
      ]
    },
    {
      "metadata": {
        "id": "wNEOsP6-A0Sg",
        "colab_type": "code",
        "colab": {}
      },
      "cell_type": "code",
      "source": [
        "import numpy as np\n",
        "import os\n",
        "from glob import glob \n",
        "\n",
        "from scipy.io import wavfile\n",
        "import librosa as lr\n",
        "\n",
        "import matplotlib.pyplot as plt\n",
        "import matplotlib as mpl"
      ],
      "execution_count": 0,
      "outputs": []
    },
    {
      "metadata": {
        "id": "I8Zz85ARA0Sk",
        "colab_type": "text"
      },
      "cell_type": "markdown",
      "source": [
        "### グラフのデフォルト表示サイズの変更"
      ]
    },
    {
      "metadata": {
        "id": "EdfOC5BqA0Sl",
        "colab_type": "code",
        "colab": {}
      },
      "cell_type": "code",
      "source": [
        "mpl.rcParams['figure.figsize'] = 12, 4"
      ],
      "execution_count": 0,
      "outputs": []
    },
    {
      "metadata": {
        "id": "HBS3L_TFA0Sn",
        "colab_type": "text"
      },
      "cell_type": "markdown",
      "source": [
        "### カレントディレクトリの移動"
      ]
    },
    {
      "metadata": {
        "id": "kbUkW21RA0So",
        "colab_type": "code",
        "colab": {}
      },
      "cell_type": "code",
      "source": [
        "from google.colab import drive\n",
        "drive.mount('/gdrive')\n",
        "%cd \"/gdrive/My Drive/Colab Notebooks/jasla_rensyuu_20190202\""
      ],
      "execution_count": 0,
      "outputs": []
    },
    {
      "metadata": {
        "id": "fRfawezKA0Sr",
        "colab_type": "text"
      },
      "cell_type": "markdown",
      "source": [
        "# 2. SciPyによるデータの読み込みと確認\n",
        "\n",
        "### wavファイルの読み込み\n",
        "\n",
        "- scipy.ioパッケージに含まれるwavfileモジュールを使って、wavファイルを読み込みまましょう。\n",
        "- read関数の引数にファイル名を指定します。\n",
        "- 戻り値は、サンプルレートと、numpy array形式の数値データです。\n",
        "\n",
        "( https://docs.scipy.org/doc/scipy/reference/generated/scipy.io.wavfile.read.html#scipy.io.wavfile.read )"
      ]
    },
    {
      "metadata": {
        "id": "zF4nswwgA0Ss",
        "colab_type": "code",
        "colab": {}
      },
      "cell_type": "code",
      "source": [
        "rate, data = wavfile.read('data/heartbeat/extrahls__201102241217.wav')"
      ],
      "execution_count": 0,
      "outputs": []
    },
    {
      "metadata": {
        "id": "yC102I-MA0Sv",
        "colab_type": "code",
        "colab": {}
      },
      "cell_type": "code",
      "source": [
        "rate"
      ],
      "execution_count": 0,
      "outputs": []
    },
    {
      "metadata": {
        "id": "JCC4oQBAYSsh",
        "colab_type": "code",
        "colab": {}
      },
      "cell_type": "code",
      "source": [
        "data.shape"
      ],
      "execution_count": 0,
      "outputs": []
    },
    {
      "metadata": {
        "id": "wFdVIqGKA0Sz",
        "colab_type": "text"
      },
      "cell_type": "markdown",
      "source": [
        "### グラフを表示\n",
        "\n",
        "- matplotlibのplot関数を使います。\n",
        "- plot関数は、第１引数のデータがx軸に、第２引数のデータがy軸となります。第1引数を省略した場合には0から一連の番号がつきます。\n",
        "( https://matplotlib.org/api/_as_gen/matplotlib.pyplot.plot.html#matplotlib.pyplot.plot )"
      ]
    },
    {
      "metadata": {
        "id": "gpYUMDXmA0S0",
        "colab_type": "code",
        "colab": {}
      },
      "cell_type": "code",
      "source": [
        "plt.plot(data)"
      ],
      "execution_count": 0,
      "outputs": []
    },
    {
      "metadata": {
        "id": "T97PLbnCA0S4",
        "colab_type": "text"
      },
      "cell_type": "markdown",
      "source": [
        "- 横軸の単位を「秒」にしてみましょう。データの位置をサンプルレートで割ることで秒に変換ができます。\n",
        "- タイトルや、軸のラベルも表示してみましょう。"
      ]
    },
    {
      "metadata": {
        "id": "XkZ6Vey5A0S4",
        "colab_type": "code",
        "colab": {}
      },
      "cell_type": "code",
      "source": [
        "sec = np.arange(0, len(data)) / rate\n",
        "\n",
        "plt.title('extrahls__201102241217')\n",
        "plt.xlabel('Time (s)')\n",
        "plt.ylabel('Amplitude')\n",
        "plt.plot(sec, data)"
      ],
      "execution_count": 0,
      "outputs": []
    },
    {
      "metadata": {
        "id": "S0H-HDZfA0S8",
        "colab_type": "text"
      },
      "cell_type": "markdown",
      "source": [
        "# 3. LibROSAによるデータの読み込みと確認\n",
        "\n",
        "### wavファイルの読み込み\n",
        "\n",
        "- load関数を使って、wavファイルを読み込みましょう。\n",
        "- load関数の引数にファイル名を指定します。\n",
        "- srは、サンプルレートを指定するパラメータです。元のファイルのサンプリングレートで出力するためにsrパラメータにNoneを指定します。デフォルトは22050で、デフォルトのままではダウンサンプリングがされてしまいます。\n",
        "- 戻り値は、numpy array形式の数値データと、サンプルレートです。wavfile.readとは順番が異なることに注意が必要です。\n",
        "\n",
        "( https://librosa.github.io/librosa/generated/librosa.core.load.html )"
      ]
    },
    {
      "metadata": {
        "id": "xfYgcqZkA0S8",
        "colab_type": "code",
        "colab": {}
      },
      "cell_type": "code",
      "source": [
        "audio, sfreq = lr.load('data/heartbeat/extrahls__201102241217.wav',  \n",
        "                       sr=None)"
      ],
      "execution_count": 0,
      "outputs": []
    },
    {
      "metadata": {
        "id": "PQA7Tx3aA0S_",
        "colab_type": "text"
      },
      "cell_type": "markdown",
      "source": [
        "### グラフを表示\n",
        "\n",
        "- matplotlibのplot関数を使います。\n",
        "- 横軸の単位を「秒」にしてみましょう。"
      ]
    },
    {
      "metadata": {
        "id": "LKU9rnEsA0S_",
        "colab_type": "code",
        "colab": {}
      },
      "cell_type": "code",
      "source": [
        "sec = np.arange(0, len(audio)) / sfreq\n",
        "\n",
        "plt.title('extrahls__201102241217')\n",
        "plt.xlabel('Time (s)')\n",
        "plt.ylabel('Amplitude')\n",
        "plt.plot(sec, audio)"
      ],
      "execution_count": 0,
      "outputs": []
    },
    {
      "metadata": {
        "id": "6XWAw0WtA0TC",
        "colab_type": "text"
      },
      "cell_type": "markdown",
      "source": [
        "### wavファイルの一部分だけ読み込む\n",
        "\n",
        "- load関数は、offsetパラメータで読み込み開始位置を指定できます。\n",
        "- durationパラメータで読み込む長さを指定できます。\n",
        "- load関数の引数に、読み出しの位置と範囲を指定してみましょう。"
      ]
    },
    {
      "metadata": {
        "id": "-vBqN-0QA0TE",
        "colab_type": "code",
        "colab": {}
      },
      "cell_type": "code",
      "source": [
        "offset = 2.15\n",
        "duration = 0.2\n",
        "audio, sfreq = lr.load('data/heartbeat/extrahls__201102241217.wav',  \n",
        "                       sr=None, \n",
        "                       offset=offset, \n",
        "                       duration=duration)"
      ],
      "execution_count": 0,
      "outputs": []
    },
    {
      "metadata": {
        "id": "TrBK-tlKA0TH",
        "colab_type": "code",
        "colab": {}
      },
      "cell_type": "code",
      "source": [
        "sec = np.arange(0, len(audio)) / sfreq + offset\n",
        "\n",
        "plt.title('extrahls__201102241217')\n",
        "plt.xlabel('Time (s)')\n",
        "plt.ylabel('Amplitude')\n",
        "plt.plot(sec, audio)"
      ],
      "execution_count": 0,
      "outputs": []
    },
    {
      "metadata": {
        "id": "ARNuf4nCA0TL",
        "colab_type": "text"
      },
      "cell_type": "markdown",
      "source": [
        "# 4. フォルダー内のファイルをまとめて可視化\n",
        "\n",
        "\n",
        "### wavファイルのリストを作成\n",
        "\n",
        "- globモジュールを使うと、ワイルドカードや正規表現を使って条件を満たすファイル名の一覧を取得できます。\n",
        "- wavファイルのリストを作ってみましょう。"
      ]
    },
    {
      "metadata": {
        "id": "yNW45E6wA0TL",
        "colab_type": "code",
        "colab": {}
      },
      "cell_type": "code",
      "source": [
        "files = glob('data/heartbeat/*.wav')"
      ],
      "execution_count": 0,
      "outputs": []
    },
    {
      "metadata": {
        "id": "0jFyrvf_A0TO",
        "colab_type": "text"
      },
      "cell_type": "markdown",
      "source": [
        "- glob関数で取得したwavファイルの数を確認してみましょう。\n",
        "- len関数により、リストの要素数を取得できます。\n",
        "- 後で利用できるように、変数nにファイル数を代入しておきます。"
      ]
    },
    {
      "metadata": {
        "id": "EE6YOKHcA0TP",
        "colab_type": "code",
        "colab": {}
      },
      "cell_type": "code",
      "source": [
        "n = len(files)"
      ],
      "execution_count": 0,
      "outputs": []
    },
    {
      "metadata": {
        "id": "kAQQIoeYA0TV",
        "colab_type": "text"
      },
      "cell_type": "markdown",
      "source": [
        "### まとめて可視化\n",
        "\n",
        "### グラフタイトルのための準備\n",
        "\n",
        "- ファイル名を各表のタイトルに使いましょう。\n",
        "- os.path.basenameを使うと、ファイル名だけ取り出すことができます。\n",
        "- 拡張子「.wav」を削除するため、各ファイル名の最後の4文字をスライスで取り除きます。"
      ]
    },
    {
      "metadata": {
        "id": "fkaTsthVA0TW",
        "colab_type": "code",
        "colab": {}
      },
      "cell_type": "code",
      "source": [
        "### os.path.basename(files[0])[:-4]\n",
        "os.path.basename(files[1])"
      ],
      "execution_count": 0,
      "outputs": []
    },
    {
      "metadata": {
        "id": "EFeSo5JpA0TZ",
        "colab_type": "text"
      },
      "cell_type": "markdown",
      "source": [
        " ### subplotでグラフ表示\n",
        "- plt.subplotを使うと、一つの図に複数のグラフをまとめることができます。\n",
        "- subplot関数のパラメータに、(行数, 列数, 何番目か)を指定します。カンマを省略することもできます。\n",
        "- plt.subplot(2, 1, 1) と plt.subplot(211) は同じ意味になります。\n",
        "- subplots_adjust関数を使うと、グラフ間の隙間を調整することができます。（デフォルト値は、0.2インチ）"
      ]
    },
    {
      "metadata": {
        "scrolled": false,
        "id": "7pXmUQH6A0Ta",
        "colab_type": "code",
        "colab": {}
      },
      "cell_type": "code",
      "source": [
        "plt.figure(figsize = (15, 15))\n",
        "plt.subplots_adjust(wspace=0.3, hspace=0.3) # デフォルト0.2\n",
        "for i in range(n):\n",
        "    rate, data = wavfile.read(files[i])\n",
        "    sec = np.arange(0, len(data)) / rate\n",
        "    plt.subplot(n//4+1, 4, i+1)\n",
        "    plt.plot(sec, data)\n",
        "    plt.title(os.path.basename(files[i])[:-4])"
      ],
      "execution_count": 0,
      "outputs": []
    },
    {
      "metadata": {
        "id": "ih2zZmgEA0Td",
        "colab_type": "text"
      },
      "cell_type": "markdown",
      "source": [
        "# 5. Matplotlibの二つの記法\n",
        "\n",
        "\n",
        "### 「オブジェクト指向API」 vs 「Pyplot」\n",
        "\n",
        "matplotlibにはグラフを作る際に二つの記法（流儀）があります。\n",
        "一つのプログラムでこれら二つが混在して使われていることも多く、初心者が混乱する原因になっています。\n",
        "本セミナーでは、後者を採用しています。確認をしながらインタラクティブに表示をする場合、後者が便利です。\n",
        "\n",
        "- オブジェクト指向インターフェース\n",
        "    - 「fig, ax = plt.subplots()」 などでオブジェクトを作成し、その後「ax.plot()」などを使う記法です。\n",
        "\n",
        "- Pyplotインターフェース\n",
        "    - 「plt.xxx」ですべて記述します。MATLABをまねた記法です。\n",
        "    - current figureやcurrent axesと呼ばれるオブジェクトが自動で作成されます。\n",
        "\n",
        "\n",
        "※（参考)\n",
        "[A note on the Object-Oriented API vs Pyplot](https://matplotlib.org/tutorials/introductory/lifecycle.html#a-note-on-the-object-oriented-api-vs-pyplot/)"
      ]
    },
    {
      "metadata": {
        "id": "Sn21mhCwA0Td",
        "colab_type": "text"
      },
      "cell_type": "markdown",
      "source": [
        "### オブジェクト指向APIを使った例"
      ]
    },
    {
      "metadata": {
        "id": "kTkfgsYaA0Te",
        "colab_type": "code",
        "colab": {}
      },
      "cell_type": "code",
      "source": [
        "rate, data = wavfile.read('data/heartbeat/extrahls__201102241217.wav')\n",
        "sec = np.arange(0, len(data)) / rate\n",
        "\n",
        "fig, ax = plt.subplots()\n",
        "ax.set_title('extrahls__201102241217')\n",
        "ax.plot(sec, data) "
      ],
      "execution_count": 0,
      "outputs": []
    },
    {
      "metadata": {
        "id": "JTrjg-V3diWq",
        "colab_type": "code",
        "colab": {}
      },
      "cell_type": "code",
      "source": [
        ""
      ],
      "execution_count": 0,
      "outputs": []
    }
  ]
}