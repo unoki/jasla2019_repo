{
  "nbformat": 4,
  "nbformat_minor": 0,
  "metadata": {
    "colab": {
      "name": "10_har_dnn.ipynb",
      "version": "0.3.2",
      "provenance": [],
      "include_colab_link": true
    },
    "kernelspec": {
      "display_name": "Python 3",
      "language": "python",
      "name": "python3"
    }
  },
  "cells": [
    {
      "cell_type": "markdown",
      "metadata": {
        "id": "view-in-github",
        "colab_type": "text"
      },
      "source": [
        "<a href=\"https://colab.research.google.com/github/unoki/colabtest/blob/master/10_har_dnn.ipynb\" target=\"_parent\"><img src=\"https://colab.research.google.com/assets/colab-badge.svg\" alt=\"Open In Colab\"/></a>"
      ]
    },
    {
      "metadata": {
        "id": "xtmt9_f195oe",
        "colab_type": "text"
      },
      "cell_type": "markdown",
      "source": [
        "# 第10章　人の活動の識別：ディープラーニングによる識別（プログラム）\n",
        "\n",
        "第10章では、第9章で前処理を行った人の活動識別のためのたデータセットに対して、ディープラーニングで識別を行います。\n",
        "\n",
        "### 学習項目\n",
        "\n",
        "1. 準備\n",
        "2. データの準備\n",
        "3. モデルの定義\n",
        "4. パラメータの設定\n",
        "5. トレーニング\n",
        "6. 評価\n",
        "\n",
        "\n",
        "\n",
        "### 使用するファイル\n",
        "- 10_har_dnn.ipynb （このファイルです）\n",
        "- data/X_train.npy (訓練用データ)\n",
        "- data/X_test.npy (テスト用データ)\n",
        "- data/y_train.npy (訓練用正解ラベルデータ)\n",
        "- data/y_test.npy (テスト用正解ラベルデータ)\n",
        "\n",
        "### データセット\n",
        "\n",
        "- UCI Machine Learning Repositoryで公開されているHuman Activity Recognition Using Smartphones Data Set から一部のデータを抜粋し、\n",
        "前処理を行ったもの。\n",
        "- ファイルは、NumPyで読み込み可能なバイナリ形式のフnpyファイル。\n",
        "\n",
        "\n",
        "# 1. 準備\n",
        "###  必要なライブラリの読み込み\n",
        "\n",
        "- NumPy：モデル入力用のデータを作成するために使用します。\n",
        "- Matplotlib：データの可視化に使用します。\n",
        "- Sicket-learn：metricsパッケージ内のモジュールをモデルの評価に使用します。\n",
        "- keras：ニューラルネットワークのためのライブラリです。"
      ]
    },
    {
      "metadata": {
        "id": "Wy09HY3y95oj",
        "colab_type": "code",
        "colab": {},
        "outputId": "c5f75b03-df13-4491-eecd-f8a6c1296018"
      },
      "cell_type": "code",
      "source": [
        "import numpy as np\n",
        "import pandas as pd\n",
        "import matplotlib.pyplot as plt\n",
        "from sklearn.metrics import accuracy_score\n",
        "from sklearn.metrics import confusion_matrix\n",
        "from sklearn.metrics import classification_report\n",
        "\n",
        "from keras.models import Sequential\n",
        "from keras.layers import Dense, Activation, Dropout, Flatten\n",
        "from keras.layers.convolutional import Conv1D, MaxPooling1D\n",
        "import keras.backend as K"
      ],
      "execution_count": 0,
      "outputs": [
        {
          "output_type": "stream",
          "text": [
            "Using TensorFlow backend.\n"
          ],
          "name": "stderr"
        }
      ]
    },
    {
      "metadata": {
        "id": "jEkSbSBE95o0",
        "colab_type": "text"
      },
      "cell_type": "markdown",
      "source": [
        "### カレントディレクトリの移動"
      ]
    },
    {
      "metadata": {
        "id": "J3Qxolmb95o3",
        "colab_type": "code",
        "colab": {}
      },
      "cell_type": "code",
      "source": [
        "# from google.colab import drive\n",
        "# drive.mount('/gdrive')\n",
        "# %cd \"/gdrive/My Drive/Colab Notebooks/jasla_rensyuu_20190202\""
      ],
      "execution_count": 0,
      "outputs": []
    },
    {
      "metadata": {
        "id": "P8gJ374x95o-",
        "colab_type": "text"
      },
      "cell_type": "markdown",
      "source": [
        "### 参照用変数の準備\n",
        "- アクティビティの番号と内容の対応が取りやすくなるように、辞書型の変数を定義しておきます。\n",
        "- class_num は、アクティビティの数を代入しておきます。"
      ]
    },
    {
      "metadata": {
        "id": "P2oUCZPg95pA",
        "colab_type": "code",
        "colab": {}
      },
      "cell_type": "code",
      "source": [
        "class_num = 6\n",
        "class_names = {1:'Walking',\n",
        "               2:'Walk upstairs', \n",
        "               3:'Walk downstairs', \n",
        "               4:'Sitting', \n",
        "               5:'Standing', \n",
        "               6:'Laying'}"
      ],
      "execution_count": 0,
      "outputs": []
    },
    {
      "metadata": {
        "id": "0uatWo1c95pC",
        "colab_type": "text"
      },
      "cell_type": "markdown",
      "source": [
        "### 混同行列用関数の定義\n",
        "- 混同行列を見やすくする関数を定義しておきます。"
      ]
    },
    {
      "metadata": {
        "id": "VutRCSmE95pE",
        "colab_type": "code",
        "colab": {}
      },
      "cell_type": "code",
      "source": [
        "def pretty_confusion_matrix(y_true, y_pred, labels=[\"False\", \"True\"]):\n",
        "    cm = confusion_matrix(y_true, y_pred)\n",
        "    pred_labels = ['(pred) '+ l for l in labels]\n",
        "    df = pd.DataFrame(cm, index=labels, columns=pred_labels)\n",
        "    return df"
      ],
      "execution_count": 0,
      "outputs": []
    },
    {
      "metadata": {
        "id": "dG3khOgy95pG",
        "colab_type": "text"
      },
      "cell_type": "markdown",
      "source": [
        "# 2.  データの読み込み\n",
        "- 第9章で作成したnpyファイルを読み込みます。"
      ]
    },
    {
      "metadata": {
        "id": "M7NDTYq295pI",
        "colab_type": "code",
        "colab": {}
      },
      "cell_type": "code",
      "source": [
        "X_train = np.load('data/X_train.npy')\n",
        "Y_train = np.load('data/Y_train.npy')\n",
        "X_test = np.load('data/X_test.npy')\n",
        "Y_test = np.load('data/Y_test.npy')"
      ],
      "execution_count": 0,
      "outputs": []
    },
    {
      "metadata": {
        "id": "YhcE3V1x95pL",
        "colab_type": "text"
      },
      "cell_type": "markdown",
      "source": [
        "### バックエンドのグラフ識別子をリセット"
      ]
    },
    {
      "metadata": {
        "id": "nr6mFQD495pM",
        "colab_type": "code",
        "colab": {}
      },
      "cell_type": "code",
      "source": [
        "K.clear_session()"
      ],
      "execution_count": 0,
      "outputs": []
    },
    {
      "metadata": {
        "id": "Cq_GMT3I95pQ",
        "colab_type": "text"
      },
      "cell_type": "markdown",
      "source": [
        "# 3. モデルの定義\n",
        "\n",
        "- 2層の1次元畳み込み層を使うモデルとしました。\n",
        "- summary関数で、モデルの概要を確認しておきましょう。"
      ]
    },
    {
      "metadata": {
        "id": "1gAkLzoQ95pR",
        "colab_type": "code",
        "colab": {},
        "outputId": "8357e5ed-f34b-42b8-dc9a-9ff9c6f40424"
      },
      "cell_type": "code",
      "source": [
        "n_steps = X_train.shape[1]\n",
        "n_features = X_train.shape[2]\n",
        "n_outputs = Y_train.shape[1]\n",
        "\n",
        "model = Sequential()\n",
        "model.add(Conv1D(filters=32, kernel_size=8, activation='relu', input_shape=(n_steps, n_features)))\n",
        "model.add(Conv1D(filters=16, kernel_size=4, activation='relu'))\n",
        "model.add(Dropout(0.2))\n",
        "model.add(MaxPooling1D(pool_size=2))\n",
        "model.add(Flatten())\n",
        "model.add(Dense(100, activation='relu'))\n",
        "model.add(Dense(n_outputs, activation='softmax'))\n",
        "\n",
        "model.summary()"
      ],
      "execution_count": 0,
      "outputs": [
        {
          "output_type": "stream",
          "text": [
            "_________________________________________________________________\n",
            "Layer (type)                 Output Shape              Param #   \n",
            "=================================================================\n",
            "conv1d_1 (Conv1D)            (None, 121, 32)           2336      \n",
            "_________________________________________________________________\n",
            "conv1d_2 (Conv1D)            (None, 118, 16)           2064      \n",
            "_________________________________________________________________\n",
            "dropout_1 (Dropout)          (None, 118, 16)           0         \n",
            "_________________________________________________________________\n",
            "max_pooling1d_1 (MaxPooling1 (None, 59, 16)            0         \n",
            "_________________________________________________________________\n",
            "flatten_1 (Flatten)          (None, 944)               0         \n",
            "_________________________________________________________________\n",
            "dense_1 (Dense)              (None, 100)               94500     \n",
            "_________________________________________________________________\n",
            "dense_2 (Dense)              (None, 6)                 606       \n",
            "=================================================================\n",
            "Total params: 99,506\n",
            "Trainable params: 99,506\n",
            "Non-trainable params: 0\n",
            "_________________________________________________________________\n"
          ],
          "name": "stdout"
        }
      ]
    },
    {
      "metadata": {
        "id": "2n96FZp295pV",
        "colab_type": "text"
      },
      "cell_type": "markdown",
      "source": [
        "# 4. パラメータの設定"
      ]
    },
    {
      "metadata": {
        "id": "Rw8TDbUd95pX",
        "colab_type": "code",
        "colab": {}
      },
      "cell_type": "code",
      "source": [
        "model.compile(loss='categorical_crossentropy', optimizer='adam')"
      ],
      "execution_count": 0,
      "outputs": []
    },
    {
      "metadata": {
        "id": "wXGVFgN895pa",
        "colab_type": "text"
      },
      "cell_type": "markdown",
      "source": [
        "# 5. トレーニング"
      ]
    },
    {
      "metadata": {
        "id": "FfTFpitN95pb",
        "colab_type": "text"
      },
      "cell_type": "markdown",
      "source": [
        "- fit関数でモデルのトレーニングを実行します。\n",
        "- 損失関数の値の推移図をグラフで確認しておきましょう。"
      ]
    },
    {
      "metadata": {
        "id": "OUvtITy-95pb",
        "colab_type": "code",
        "colab": {},
        "outputId": "3341eb22-290c-41ce-bf63-401bdc1d28d6"
      },
      "cell_type": "code",
      "source": [
        "epochs = 35\n",
        "history = model.fit(X_train, Y_train, epochs=epochs, verbose=0)\n",
        "\n",
        "plt.figure(figsize=(8, 5))\n",
        "plt.plot(history.history['loss'])\n",
        "plt.ylabel('loss')\n",
        "plt.xlabel('epoch')"
      ],
      "execution_count": 0,
      "outputs": [
        {
          "output_type": "execute_result",
          "data": {
            "text/plain": [
              "Text(0.5, 0, 'epoch')"
            ]
          },
          "metadata": {
            "tags": []
          },
          "execution_count": 9
        },
        {
          "output_type": "display_data",
          "data": {
            "image/png": "[encoded data removed]",
            "text/plain": [
              "<Figure size 576x360 with 1 Axes>"
            ]
          },
          "metadata": {
            "tags": [],
            "needs_background": "light"
          }
        }
      ]
    },
    {
      "metadata": {
        "id": "SDWqc7LD95pf",
        "colab_type": "text"
      },
      "cell_type": "markdown",
      "source": [
        "# 6. 評価"
      ]
    },
    {
      "metadata": {
        "id": "5M4dgqtT95pg",
        "colab_type": "text"
      },
      "cell_type": "markdown",
      "source": [
        "### テストデータからトレーニング済みモデルを使って予測\n",
        "\n",
        "- predict_classes関数にテストデータを渡すことで、トレーニング済みモデルによる推定結果を得ることができます。\n",
        "- テストデータの正解ラベルY_testはOne-Hot表現になっているため、0から5の範囲の値に戻しておきます。"
      ]
    },
    {
      "metadata": {
        "id": "pvCKVoVk95ph",
        "colab_type": "code",
        "colab": {}
      },
      "cell_type": "code",
      "source": [
        "y_pred = model.predict_classes(X_test) \n",
        "y_true = np.argmax(Y_test, axis=1) "
      ],
      "execution_count": 0,
      "outputs": []
    },
    {
      "metadata": {
        "id": "70H8p_AQ95pj",
        "colab_type": "text"
      },
      "cell_type": "markdown",
      "source": [
        "### 正解率\n",
        "- accuracy_score関数で、正解率を算出できます。"
      ]
    },
    {
      "metadata": {
        "id": "Lb2_GjOY95pk",
        "colab_type": "code",
        "colab": {},
        "outputId": "1dba993a-7b0e-4193-e4d1-ddf3b7f63621"
      },
      "cell_type": "code",
      "source": [
        "accuracy_score(y_true, y_pred)"
      ],
      "execution_count": 0,
      "outputs": [
        {
          "output_type": "execute_result",
          "data": {
            "text/plain": [
              "0.8785205293518833"
            ]
          },
          "metadata": {
            "tags": []
          },
          "execution_count": 11
        }
      ]
    },
    {
      "metadata": {
        "id": "GAbHCigL95pn",
        "colab_type": "text"
      },
      "cell_type": "markdown",
      "source": [
        "### 混同行列\n",
        "- 混同行列を確認しましょう。見やすく表示するためにpretty_confusion_matrix関数を定義していました。"
      ]
    },
    {
      "metadata": {
        "id": "GdTzajml95po",
        "colab_type": "code",
        "colab": {},
        "outputId": "5f04b868-b1ea-4d2d-f351-e027ef0b6621"
      },
      "cell_type": "code",
      "source": [
        "pretty_confusion_matrix(y_true, y_pred, class_names.values())"
      ],
      "execution_count": 0,
      "outputs": [
        {
          "output_type": "execute_result",
          "data": {
            "text/html": [
              "<div>\n",
              "<style scoped>\n",
              "    .dataframe tbody tr th:only-of-type {\n",
              "        vertical-align: middle;\n",
              "    }\n",
              "\n",
              "    .dataframe tbody tr th {\n",
              "        vertical-align: top;\n",
              "    }\n",
              "\n",
              "    .dataframe thead th {\n",
              "        text-align: right;\n",
              "    }\n",
              "</style>\n",
              "<table border=\"1\" class=\"dataframe\">\n",
              "  <thead>\n",
              "    <tr style=\"text-align: right;\">\n",
              "      <th></th>\n",
              "      <th>(pred) Walking</th>\n",
              "      <th>(pred) Walk upstairs</th>\n",
              "      <th>(pred) Walk downstairs</th>\n",
              "      <th>(pred) Sitting</th>\n",
              "      <th>(pred) Standing</th>\n",
              "      <th>(pred) Laying</th>\n",
              "    </tr>\n",
              "  </thead>\n",
              "  <tbody>\n",
              "    <tr>\n",
              "      <th>Walking</th>\n",
              "      <td>456</td>\n",
              "      <td>19</td>\n",
              "      <td>2</td>\n",
              "      <td>0</td>\n",
              "      <td>19</td>\n",
              "      <td>0</td>\n",
              "    </tr>\n",
              "    <tr>\n",
              "      <th>Walk upstairs</th>\n",
              "      <td>37</td>\n",
              "      <td>412</td>\n",
              "      <td>6</td>\n",
              "      <td>0</td>\n",
              "      <td>16</td>\n",
              "      <td>0</td>\n",
              "    </tr>\n",
              "    <tr>\n",
              "      <th>Walk downstairs</th>\n",
              "      <td>5</td>\n",
              "      <td>41</td>\n",
              "      <td>374</td>\n",
              "      <td>0</td>\n",
              "      <td>0</td>\n",
              "      <td>0</td>\n",
              "    </tr>\n",
              "    <tr>\n",
              "      <th>Sitting</th>\n",
              "      <td>1</td>\n",
              "      <td>0</td>\n",
              "      <td>0</td>\n",
              "      <td>325</td>\n",
              "      <td>164</td>\n",
              "      <td>1</td>\n",
              "    </tr>\n",
              "    <tr>\n",
              "      <th>Standing</th>\n",
              "      <td>0</td>\n",
              "      <td>0</td>\n",
              "      <td>0</td>\n",
              "      <td>47</td>\n",
              "      <td>485</td>\n",
              "      <td>0</td>\n",
              "    </tr>\n",
              "    <tr>\n",
              "      <th>Laying</th>\n",
              "      <td>0</td>\n",
              "      <td>0</td>\n",
              "      <td>0</td>\n",
              "      <td>0</td>\n",
              "      <td>0</td>\n",
              "      <td>537</td>\n",
              "    </tr>\n",
              "  </tbody>\n",
              "</table>\n",
              "</div>"
            ],
            "text/plain": [
              "                 (pred) Walking  (pred) Walk upstairs  (pred) Walk downstairs  \\\n",
              "Walking                     456                    19                       2   \n",
              "Walk upstairs                37                   412                       6   \n",
              "Walk downstairs               5                    41                     374   \n",
              "Sitting                       1                     0                       0   \n",
              "Standing                      0                     0                       0   \n",
              "Laying                        0                     0                       0   \n",
              "\n",
              "                 (pred) Sitting  (pred) Standing  (pred) Laying  \n",
              "Walking                       0               19              0  \n",
              "Walk upstairs                 0               16              0  \n",
              "Walk downstairs               0                0              0  \n",
              "Sitting                     325              164              1  \n",
              "Standing                     47              485              0  \n",
              "Laying                        0                0            537  "
            ]
          },
          "metadata": {
            "tags": []
          },
          "execution_count": 12
        }
      ]
    },
    {
      "metadata": {
        "id": "jb5MQHg_95pt",
        "colab_type": "text"
      },
      "cell_type": "markdown",
      "source": [
        "### Classification report\n",
        "- classification_report関数では、精度 (Precision)や、検出率 (Recall) を表示することができます。"
      ]
    },
    {
      "metadata": {
        "id": "Hbxm4naJ95pu",
        "colab_type": "code",
        "colab": {},
        "outputId": "607f5e44-9583-42a5-87bb-a4a0403df606"
      },
      "cell_type": "code",
      "source": [
        "print(classification_report(y_true, y_pred))"
      ],
      "execution_count": 0,
      "outputs": [
        {
          "output_type": "stream",
          "text": [
            "              precision    recall  f1-score   support\n",
            "\n",
            "           0       0.91      0.92      0.92       496\n",
            "           1       0.87      0.87      0.87       471\n",
            "           2       0.98      0.89      0.93       420\n",
            "           3       0.87      0.66      0.75       491\n",
            "           4       0.71      0.91      0.80       532\n",
            "           5       1.00      1.00      1.00       537\n",
            "\n",
            "   micro avg       0.88      0.88      0.88      2947\n",
            "   macro avg       0.89      0.88      0.88      2947\n",
            "weighted avg       0.89      0.88      0.88      2947\n",
            "\n"
          ],
          "name": "stdout"
        }
      ]
    }
  ]
}