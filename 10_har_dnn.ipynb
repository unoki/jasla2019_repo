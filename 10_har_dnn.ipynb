{
  "nbformat": 4,
  "nbformat_minor": 0,
  "metadata": {
    "colab": {
      "name": "10_har_dnn.ipynb",
      "version": "0.3.2",
      "provenance": [],
      "include_colab_link": true
    },
    "kernelspec": {
      "display_name": "Python 3",
      "language": "python",
      "name": "python3"
    }
  },
  "cells": [
    {
      "cell_type": "markdown",
      "metadata": {
        "id": "view-in-github",
        "colab_type": "text"
      },
      "source": [
        "<a href=\"https://colab.research.google.com/github/unoki/colabtest/blob/master/10_har_dnn.ipynb\" target=\"_parent\"><img src=\"https://colab.research.google.com/assets/colab-badge.svg\" alt=\"Open In Colab\"/></a>"
      ]
    },
    {
      "metadata": {
        "id": "xtmt9_f195oe",
        "colab_type": "text"
      },
      "cell_type": "markdown",
      "source": [
        "# 第10章　人の活動の識別：ディープラーニングによる識別（プログラム）\n",
        "\n",
        "第10章では、第9章で前処理を行った人の活動識別のためのたデータセットに対して、ディープラーニングで識別を行います。\n",
        "\n",
        "### 学習項目\n",
        "\n",
        "1. 準備\n",
        "2. データの準備\n",
        "3. モデルの定義\n",
        "4. パラメータの設定\n",
        "5. トレーニング\n",
        "6. 評価\n",
        "\n",
        "\n",
        "\n",
        "### 使用するファイル\n",
        "- 10_har_dnn.ipynb （このファイルです）\n",
        "- data/X_train.npy (訓練用データ)\n",
        "- data/X_test.npy (テスト用データ)\n",
        "- data/y_train.npy (訓練用正解ラベルデータ)\n",
        "- data/y_test.npy (テスト用正解ラベルデータ)\n",
        "\n",
        "### データセット\n",
        "\n",
        "- UCI Machine Learning Repositoryで公開されているHuman Activity Recognition Using Smartphones Data Set から一部のデータを抜粋し、\n",
        "前処理を行ったもの。\n",
        "- ファイルは、NumPyで読み込み可能なバイナリ形式のフnpyファイル。\n",
        "\n",
        "\n",
        "# 1. 準備\n",
        "###  必要なライブラリの読み込み\n",
        "\n",
        "- NumPy：モデル入力用のデータを作成するために使用します。\n",
        "- Matplotlib：データの可視化に使用します。\n",
        "- Sicket-learn：metricsパッケージ内のモジュールをモデルの評価に使用します。\n",
        "- keras：ニューラルネットワークのためのライブラリです。"
      ]
    },
    {
      "metadata": {
        "id": "Wy09HY3y95oj",
        "colab_type": "code",
        "colab": {}
      },
      "cell_type": "code",
      "source": [
        "import numpy as np\n",
        "import pandas as pd\n",
        "import matplotlib.pyplot as plt\n",
        "from sklearn.metrics import accuracy_score\n",
        "from sklearn.metrics import confusion_matrix\n",
        "from sklearn.metrics import classification_report\n",
        "\n",
        "from keras.models import Sequential\n",
        "from keras.layers import Dense, Activation, Dropout, Flatten\n",
        "from keras.layers.convolutional import Conv1D, MaxPooling1D\n",
        "import keras.backend as K"
      ],
      "execution_count": 0,
      "outputs": []
    },
    {
      "metadata": {
        "id": "jEkSbSBE95o0",
        "colab_type": "text"
      },
      "cell_type": "markdown",
      "source": [
        "### カレントディレクトリの移動"
      ]
    },
    {
      "metadata": {
        "id": "J3Qxolmb95o3",
        "colab_type": "code",
        "colab": {}
      },
      "cell_type": "code",
      "source": [
        "from google.colab import drive\n",
        "drive.mount('/gdrive')\n",
        "%cd \"/gdrive/My Drive/Colab Notebooks/jasla_rensyuu_20190202\""
      ],
      "execution_count": 0,
      "outputs": []
    },
    {
      "metadata": {
        "id": "P8gJ374x95o-",
        "colab_type": "text"
      },
      "cell_type": "markdown",
      "source": [
        "### 参照用変数の準備\n",
        "- アクティビティの番号と内容の対応が取りやすくなるように、辞書型の変数を定義しておきます。\n",
        "- class_num は、アクティビティの数を代入しておきます。"
      ]
    },
    {
      "metadata": {
        "id": "P2oUCZPg95pA",
        "colab_type": "code",
        "colab": {}
      },
      "cell_type": "code",
      "source": [
        "class_num = 6\n",
        "class_names = {1:'Walking',\n",
        "               2:'Walk upstairs', \n",
        "               3:'Walk downstairs', \n",
        "               4:'Sitting', \n",
        "               5:'Standing', \n",
        "               6:'Laying'}"
      ],
      "execution_count": 0,
      "outputs": []
    },
    {
      "metadata": {
        "id": "0uatWo1c95pC",
        "colab_type": "text"
      },
      "cell_type": "markdown",
      "source": [
        "### 混同行列用関数の定義\n",
        "- 混同行列を見やすくする関数を定義しておきます。"
      ]
    },
    {
      "metadata": {
        "id": "VutRCSmE95pE",
        "colab_type": "code",
        "colab": {}
      },
      "cell_type": "code",
      "source": [
        "def pretty_confusion_matrix(y_true, y_pred, labels=[\"False\", \"True\"]):\n",
        "    cm = confusion_matrix(y_true, y_pred)\n",
        "    pred_labels = ['(pred) '+ l for l in labels]\n",
        "    df = pd.DataFrame(cm, index=labels, columns=pred_labels)\n",
        "    return df"
      ],
      "execution_count": 0,
      "outputs": []
    },
    {
      "metadata": {
        "id": "dG3khOgy95pG",
        "colab_type": "text"
      },
      "cell_type": "markdown",
      "source": [
        "# 2.  データの読み込み\n",
        "- 第9章で作成したnpyファイルを読み込みます。"
      ]
    },
    {
      "metadata": {
        "id": "M7NDTYq295pI",
        "colab_type": "code",
        "colab": {}
      },
      "cell_type": "code",
      "source": [
        "X_train = np.load('data/X_train.npy')\n",
        "Y_train = np.load('data/Y_train.npy')\n",
        "X_test = np.load('data/X_test.npy')\n",
        "Y_test = np.load('data/Y_test.npy')"
      ],
      "execution_count": 0,
      "outputs": []
    },
    {
      "metadata": {
        "id": "YhcE3V1x95pL",
        "colab_type": "text"
      },
      "cell_type": "markdown",
      "source": [
        "### バックエンドのグラフ識別子をリセット"
      ]
    },
    {
      "metadata": {
        "id": "nr6mFQD495pM",
        "colab_type": "code",
        "colab": {}
      },
      "cell_type": "code",
      "source": [
        "K.clear_session()"
      ],
      "execution_count": 0,
      "outputs": []
    },
    {
      "metadata": {
        "id": "Cq_GMT3I95pQ",
        "colab_type": "text"
      },
      "cell_type": "markdown",
      "source": [
        "# 3. モデルの定義\n",
        "\n",
        "- 2層の1次元畳み込み層を使うモデルとしました。\n",
        "- summary関数で、モデルの概要を確認しておきましょう。"
      ]
    },
    {
      "metadata": {
        "id": "1gAkLzoQ95pR",
        "colab_type": "code",
        "colab": {}
      },
      "cell_type": "code",
      "source": [
        "n_steps = X_train.shape[1]\n",
        "n_features = X_train.shape[2]\n",
        "n_outputs = Y_train.shape[1]\n",
        "\n",
        "model = Sequential()\n",
        "model.add(Conv1D(filters=32, kernel_size=8, activation='relu', input_shape=(n_steps, n_features)))\n",
        "model.add(Conv1D(filters=16, kernel_size=4, activation='relu'))\n",
        "model.add(Dropout(0.2))\n",
        "model.add(MaxPooling1D(pool_size=2))\n",
        "model.add(Flatten())\n",
        "model.add(Dense(100, activation='relu'))\n",
        "model.add(Dense(n_outputs, activation='softmax'))\n",
        "\n",
        "model.summary()"
      ],
      "execution_count": 0,
      "outputs": []
    },
    {
      "metadata": {
        "id": "2n96FZp295pV",
        "colab_type": "text"
      },
      "cell_type": "markdown",
      "source": [
        "# 4. パラメータの設定"
      ]
    },
    {
      "metadata": {
        "id": "Rw8TDbUd95pX",
        "colab_type": "code",
        "colab": {}
      },
      "cell_type": "code",
      "source": [
        "model.compile(loss='categorical_crossentropy', optimizer='adam')"
      ],
      "execution_count": 0,
      "outputs": []
    },
    {
      "metadata": {
        "id": "wXGVFgN895pa",
        "colab_type": "text"
      },
      "cell_type": "markdown",
      "source": [
        "# 5. トレーニング"
      ]
    },
    {
      "metadata": {
        "id": "FfTFpitN95pb",
        "colab_type": "text"
      },
      "cell_type": "markdown",
      "source": [
        "- fit関数でモデルのトレーニングを実行します。\n",
        "- 損失関数の値の推移図をグラフで確認しておきましょう。"
      ]
    },
    {
      "metadata": {
        "id": "OUvtITy-95pb",
        "colab_type": "code",
        "colab": {}
      },
      "cell_type": "code",
      "source": [
        "%%time\n",
        "epochs = 35\n",
        "history = model.fit(X_train, Y_train, epochs=epochs, verbose=0)\n",
        "\n",
        "plt.figure(figsize=(8, 5))\n",
        "plt.plot(history.history['loss'])\n",
        "plt.ylabel('loss')\n",
        "plt.xlabel('epoch')"
      ],
      "execution_count": 0,
      "outputs": []
    },
    {
      "metadata": {
        "id": "SDWqc7LD95pf",
        "colab_type": "text"
      },
      "cell_type": "markdown",
      "source": [
        "# 6. 評価"
      ]
    },
    {
      "metadata": {
        "id": "5M4dgqtT95pg",
        "colab_type": "text"
      },
      "cell_type": "markdown",
      "source": [
        "### テストデータからトレーニング済みモデルを使って予測\n",
        "\n",
        "- predict_classes関数にテストデータを渡すことで、トレーニング済みモデルによる推定結果を得ることができます。\n",
        "- テストデータの正解ラベルY_testはOne-Hot表現になっているため、0から5の範囲の値に戻しておきます。"
      ]
    },
    {
      "metadata": {
        "id": "pvCKVoVk95ph",
        "colab_type": "code",
        "colab": {}
      },
      "cell_type": "code",
      "source": [
        "y_pred = model.predict_classes(X_test) \n",
        "y_true = np.argmax(Y_test, axis=1) "
      ],
      "execution_count": 0,
      "outputs": []
    },
    {
      "metadata": {
        "id": "70H8p_AQ95pj",
        "colab_type": "text"
      },
      "cell_type": "markdown",
      "source": [
        "### 正解率\n",
        "- accuracy_score関数で、正解率を算出できます。"
      ]
    },
    {
      "metadata": {
        "id": "Lb2_GjOY95pk",
        "colab_type": "code",
        "colab": {}
      },
      "cell_type": "code",
      "source": [
        "accuracy_score(y_true, y_pred)"
      ],
      "execution_count": 0,
      "outputs": []
    },
    {
      "metadata": {
        "id": "GAbHCigL95pn",
        "colab_type": "text"
      },
      "cell_type": "markdown",
      "source": [
        "### 混同行列\n",
        "- 混同行列を確認しましょう。見やすく表示するためにpretty_confusion_matrix関数を定義していました。"
      ]
    },
    {
      "metadata": {
        "id": "GdTzajml95po",
        "colab_type": "code",
        "colab": {}
      },
      "cell_type": "code",
      "source": [
        "pretty_confusion_matrix(y_true, y_pred, class_names.values())"
      ],
      "execution_count": 0,
      "outputs": []
    },
    {
      "metadata": {
        "id": "jb5MQHg_95pt",
        "colab_type": "text"
      },
      "cell_type": "markdown",
      "source": [
        "### Classification report\n",
        "- classification_report関数では、精度 (Precision)や、検出率 (Recall) を表示することができます。"
      ]
    },
    {
      "metadata": {
        "id": "Hbxm4naJ95pu",
        "colab_type": "code",
        "colab": {}
      },
      "cell_type": "code",
      "source": [
        "print(classification_report(y_true, y_pred))"
      ],
      "execution_count": 0,
      "outputs": []
    }
  ]
}