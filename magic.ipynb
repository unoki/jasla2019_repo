{
  "nbformat": 4,
  "nbformat_minor": 0,
  "metadata": {
    "colab": {
      "name": "magic.ipynb",
      "version": "0.3.2",
      "provenance": [],
      "include_colab_link": true
    },
    "kernelspec": {
      "name": "python3",
      "display_name": "Python 3"
    }
  },
  "cells": [
    {
      "cell_type": "markdown",
      "metadata": {
        "id": "view-in-github",
        "colab_type": "text"
      },
      "source": [
        "<a href=\"https://colab.research.google.com/github/unoki/colabtest/blob/master/magic.ipynb\" target=\"_parent\"><img src=\"https://colab.research.google.com/assets/colab-badge.svg\" alt=\"Open In Colab\"/></a>"
      ]
    },
    {
      "metadata": {
        "id": "D3z5JK5jfclC",
        "colab_type": "text"
      },
      "cell_type": "markdown",
      "source": [
        "Jupyter notebookでは、マジックコマンドと呼ばれる便利なコマンドが使えます。\n",
        "\n",
        "- マジックコマンドは、コマンドの先頭に%または%%がつきます。\n",
        "- 利用できるマジックコマンドは、%lsmagic で確認できます。\n",
        "- %timeはそれに続くPythonコマンドん実行時間を表示します。\n",
        "- %%timeは、セル全体の実行時間を表示します。\n",
        "- コマンドの後に?を付けると、そのコマンドの説明を見ることができます。\n",
        "\n"
      ]
    },
    {
      "metadata": {
        "id": "yYQ_z6uTf0XB",
        "colab_type": "code",
        "colab": {}
      },
      "cell_type": "code",
      "source": [
        "%lsmagic"
      ],
      "execution_count": 0,
      "outputs": []
    }
  ]
}