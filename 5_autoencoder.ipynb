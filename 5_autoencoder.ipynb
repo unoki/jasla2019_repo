{
  "nbformat": 4,
  "nbformat_minor": 0,
  "metadata": {
    "colab": {
      "name": "5_autoencoder.ipynb",
      "version": "0.3.2",
      "provenance": [],
      "collapsed_sections": [],
      "include_colab_link": true
    },
    "kernelspec": {
      "name": "python3",
      "display_name": "Python 3"
    },
    "accelerator": "TPU"
  },
  "cells": [
    {
      "cell_type": "markdown",
      "metadata": {
        "id": "view-in-github",
        "colab_type": "text"
      },
      "source": [
        "<a href=\"https://colab.research.google.com/github/unoki/colabtest/blob/master/5_autoencoder.ipynb\" target=\"_parent\"><img src=\"https://colab.research.google.com/assets/colab-badge.svg\" alt=\"Open In Colab\"/></a>"
      ]
    },
    {
      "metadata": {
        "id": "lE72aniZB5Rv",
        "colab_type": "text"
      },
      "cell_type": "markdown",
      "source": [
        "# 第５章　オートエンコーダによる異常検知（プログラム）\n",
        "\n",
        "第５章では、オートエンコーダによる異常検知のプログラムを実行します。\n",
        "\n",
        "\n",
        "### 学習項目\n",
        "\n",
        "1. 準備\n",
        "2. データの準備\n",
        "3. モデルの定義\n",
        "4. パラメータの設定\n",
        "5. トレーニング\n",
        "6. 評価\n",
        "\n",
        "\n",
        "\n",
        "### 使用するファイル\n",
        "- 5_autoencoder.ipynb （このファイルです）\n",
        "- data/ecg_data/down234_148000_152000.csv (訓練用データ)\n",
        "- data/ecg_data/down234_152000_156000.csv (テスト用データ)\n",
        "\n",
        "### データセット\n",
        "\n",
        "- MIT-BIH Arrhythmia Databaseで公開されている心電図データのうち、ID234のデータを使用します。\n",
        "- 元データのサンプリング周波数は360Hzです。２チャンネル分（MLII、V1）のデータが含まれています。\n",
        "- 前処理として、サンプリング周波数を元データの半分の180Hzにするダウンサンプリング、トレンドの除去、および0から1の範囲へのスケーリングを行いました。\n",
        "- 約65万点から、元データの148000点目から151999点までを訓練用に、152000から159999点までをテスト用に切り出し、それぞれ別のcsvファイルとしました。\n",
        "- 各csvファイルには、約11秒（=2000point/180Hz）のデータが含まれます。csvファイルの1列目にはMLII、２列目にはV1の２列のデータからなります。\n",
        "\n",
        "\n",
        "\n",
        "# 1. 準備\n",
        "###  必要なライブラリの読み込み\n",
        "\n",
        "- NumPy：モデル入力用のデータを作成するために使用します。\n",
        "- Matplotlib：データの可視化に使用します。\n",
        "- keras：ニューラルネットワークのためのライブラリです。\n",
        "\n"
      ]
    },
    {
      "metadata": {
        "id": "MnLlfwpAB5Rx",
        "colab_type": "code",
        "colab": {}
      },
      "cell_type": "code",
      "source": [
        "import numpy as np\n",
        "import pandas as pd\n",
        "import matplotlib.pyplot as plt\n",
        "import matplotlib as mpl\n",
        "\n",
        "from keras.layers import Input, Dense\n",
        "from keras.models import Model\n",
        "from keras import regularizers\n",
        "from keras import backend as K"
      ],
      "execution_count": 0,
      "outputs": []
    },
    {
      "metadata": {
        "id": "5KPF8-9ZB5R2",
        "colab_type": "text"
      },
      "cell_type": "markdown",
      "source": [
        "### バックエンドのグラフ識別子をリセット\n",
        "- clear_session関数はバックエンドのTensorFlowのグラフを壊し，新たなものを作成します。 (https://keras.io/ja/backend/#clear_session)"
      ]
    },
    {
      "metadata": {
        "id": "MbfQNuASB5R3",
        "colab_type": "code",
        "colab": {}
      },
      "cell_type": "code",
      "source": [
        "K.clear_session()"
      ],
      "execution_count": 0,
      "outputs": []
    },
    {
      "metadata": {
        "id": "-S9TSwDgB5R5",
        "colab_type": "text"
      },
      "cell_type": "markdown",
      "source": [
        "### グラフのデフォルト表示サイズの変更"
      ]
    },
    {
      "metadata": {
        "id": "Oq64tv3cB5R6",
        "colab_type": "code",
        "colab": {}
      },
      "cell_type": "code",
      "source": [
        "mpl.rcParams['figure.figsize'] = 15, 4"
      ],
      "execution_count": 0,
      "outputs": []
    },
    {
      "metadata": {
        "id": "-IqYYq4zB5R9",
        "colab_type": "text"
      },
      "cell_type": "markdown",
      "source": [
        "### カレントディレクトリの移動"
      ]
    },
    {
      "metadata": {
        "id": "deU-rdW9B5R-",
        "colab_type": "code",
        "colab": {}
      },
      "cell_type": "code",
      "source": [
        "from google.colab import drive\n",
        "drive.mount('/gdrive')\n",
        "%cd \"/gdrive/My Drive/Colab Notebooks/jasla_rensyuu_20190202\""
      ],
      "execution_count": 0,
      "outputs": []
    },
    {
      "metadata": {
        "id": "7JUJ51yhB5SA",
        "colab_type": "text"
      },
      "cell_type": "markdown",
      "source": [
        "# 2. データの準備\n",
        "\n",
        "### CSVファイルからデータを読み込む\n",
        "\n",
        "- csvファイルから Pandas の DataFrame としてデータを読み込みます。\n",
        "- 訓練用データを変数 train_df に、テストデータを変数 test_df に読み込んでみましょう。\n",
        "- read_csv 関数を使います。\n",
        "- 今回は、MLIIのみを使用するため、csvファイルの１列目だけを読み込みます。usecolsパラメータで読み込む列を指定します。1列目の指定は、0となります。"
      ]
    },
    {
      "metadata": {
        "id": "0jtgkJPXB5SB",
        "colab_type": "code",
        "colab": {}
      },
      "cell_type": "code",
      "source": [
        "train_df = pd.read_csv('data/ecg_data/down234_148000_152000.csv', usecols=[0])\n",
        "test_df = pd.read_csv('data/ecg_data/down234_152000_156000.csv', usecols=[0])\n",
        "# train_df = pd.read_csv('data/ecg_data/scaled234_148000_152000.csv', usecols=[0])\n",
        "# test_df = pd.read_csv('data/ecg_data/scaled234_152000_156000.csv', usecols=[0])"
      ],
      "execution_count": 0,
      "outputs": []
    },
    {
      "metadata": {
        "id": "jl_RMsl2B5SE",
        "colab_type": "text"
      },
      "cell_type": "markdown",
      "source": [
        "### データのサイズを確認してみましょう\n",
        "\n",
        "- データの行と列の数を確認するには、shape を使います。\n",
        "- shapeは関数ではないので、カッコが不要です。"
      ]
    },
    {
      "metadata": {
        "id": "KoBJ3HJvB5SF",
        "colab_type": "code",
        "colab": {}
      },
      "cell_type": "code",
      "source": [
        "train_df.shape"
      ],
      "execution_count": 0,
      "outputs": []
    },
    {
      "metadata": {
        "id": "m_vbfOE-B5SI",
        "colab_type": "code",
        "colab": {}
      },
      "cell_type": "code",
      "source": [
        "test_df.shape"
      ],
      "execution_count": 0,
      "outputs": []
    },
    {
      "metadata": {
        "id": "Ia_ThDOWB5SM",
        "colab_type": "text"
      },
      "cell_type": "markdown",
      "source": [
        "### データの一部を表示してみましょう\n",
        "\n",
        "- データの一部を表示するには、head関数や、tail関数を使います。\n",
        "- head関数とtail関数は、表示する行数を引数にとります。（デフォルト値:5）"
      ]
    },
    {
      "metadata": {
        "id": "svGXbbb1B5SN",
        "colab_type": "code",
        "colab": {}
      },
      "cell_type": "code",
      "source": [
        "train_df.head()"
      ],
      "execution_count": 0,
      "outputs": []
    },
    {
      "metadata": {
        "id": "VTr-UomgB5SQ",
        "colab_type": "code",
        "colab": {}
      },
      "cell_type": "code",
      "source": [
        "test_df.head()"
      ],
      "execution_count": 0,
      "outputs": []
    },
    {
      "metadata": {
        "id": "5y4KRRKHB5SU",
        "colab_type": "text"
      },
      "cell_type": "markdown",
      "source": [
        "### グラフを表示してみましょう。\n",
        "\n",
        "- matplotlibのplotメソッドを使います。"
      ]
    },
    {
      "metadata": {
        "id": "PiqVh30gB5SV",
        "colab_type": "code",
        "colab": {}
      },
      "cell_type": "code",
      "source": [
        "plt.plot(train_df)"
      ],
      "execution_count": 0,
      "outputs": []
    },
    {
      "metadata": {
        "id": "obDmfvOdB5SX",
        "colab_type": "code",
        "colab": {}
      },
      "cell_type": "code",
      "source": [
        "plt.plot(test_df)"
      ],
      "execution_count": 0,
      "outputs": []
    },
    {
      "metadata": {
        "id": "DJa9fGzsB5Sb",
        "colab_type": "text"
      },
      "cell_type": "markdown",
      "source": [
        "###  モデル入力用データの作成\n",
        "\n",
        "- 位置を1点ずつずらしながら指定されたウィンドウサイズのデータを順に切り出す関数を定義します。入力はDataFrameとウィンドウサイズ、出力はDataFrameとします。\n",
        "- 訓練データを X_trainに、テストデータを X_testに代入します。\n",
        "- head関数などで、内容を確認しておきましょう。"
      ]
    },
    {
      "metadata": {
        "id": "o09f-UXJB5Sc",
        "colab_type": "code",
        "colab": {}
      },
      "cell_type": "code",
      "source": [
        "def subseq(x, w):\n",
        "    seq = np.zeros((len(x) - w + 1, w))\n",
        "    x_np = x.iloc[:, 0]\n",
        "    for i in range(len(x) - w + 1):\n",
        "        seq[i, :] = x_np[i:w+i]\n",
        "    return pd.DataFrame(seq)\n",
        "\n",
        "w_size = 100 # ウィンドウサイズ\n",
        "X_train = subseq(train_df, w_size)\n",
        "X_test = subseq(test_df, w_size)"
      ],
      "execution_count": 0,
      "outputs": []
    },
    {
      "metadata": {
        "id": "mpBGf4omB5Sg",
        "colab_type": "code",
        "colab": {}
      },
      "cell_type": "code",
      "source": [
        "X_train.head()"
      ],
      "execution_count": 0,
      "outputs": []
    },
    {
      "metadata": {
        "id": "VZPepBZ3B5Sl",
        "colab_type": "text"
      },
      "cell_type": "markdown",
      "source": [
        "# 3. モデルの定義\n",
        "\n",
        "- Kerasのfunctional APIを使います。\n",
        "- 各層のユニット数は、入力層100、隠れ層160、出力層100の3層のスパースオートエンコーダとします。\n",
        "- 中間層の正則化項にL1出力正則化を用います。"
      ]
    },
    {
      "metadata": {
        "scrolled": false,
        "id": "r4ERsx9kB5Sm",
        "colab_type": "code",
        "colab": {}
      },
      "cell_type": "code",
      "source": [
        "l1=10e-7  # L1正則化のパラメータ\n",
        "enc_dim = 160  # 隠れ層のユニット数\n",
        "\n",
        "input_layer = Input(shape=(w_size,))\n",
        "encoded = Dense(enc_dim, activation='relu', \n",
        "                activity_regularizer=regularizers.l1(l1))(input_layer)\n",
        "decoded = Dense(w_size, activation='relu')(encoded)\n",
        "autoencoder = Model(inputs=input_layer, \n",
        "                    outputs=decoded)"
      ],
      "execution_count": 0,
      "outputs": []
    },
    {
      "metadata": {
        "id": "RkMAg7ePB5Sq",
        "colab_type": "text"
      },
      "cell_type": "markdown",
      "source": [
        "- summary関数で、モデルのが概要を確認できます。"
      ]
    },
    {
      "metadata": {
        "id": "IUrIS-EKB5Sr",
        "colab_type": "code",
        "colab": {}
      },
      "cell_type": "code",
      "source": [
        "autoencoder.summary()"
      ],
      "execution_count": 0,
      "outputs": []
    },
    {
      "metadata": {
        "id": "ltRE1dYnB5Su",
        "colab_type": "text"
      },
      "cell_type": "markdown",
      "source": [
        "# 4. パラメータの設定\n",
        "\n",
        "- compile関数を用いてどのような学習処理を行なうかを設定を行います。\n",
        "- 今回は、損失関数にbinary_crossentropy、最適化アルゴリズムにadadeltaを指定します。\n",
        "- 細かいパラメータは、すべてデフォルトのままとしました。"
      ]
    },
    {
      "metadata": {
        "id": "ml5gBdjXB5Sv",
        "colab_type": "code",
        "colab": {}
      },
      "cell_type": "code",
      "source": [
        "autoencoder.compile(optimizer='adadelta',  \n",
        "                    loss=''binary_crossentropy')"
      ],
      "execution_count": 0,
      "outputs": []
    },
    {
      "metadata": {
        "id": "n2aUz6xlB5Sx",
        "colab_type": "text"
      },
      "cell_type": "markdown",
      "source": [
        "# 5. トレーニング\n",
        "\n",
        "- 入力データと教師データにX_trainを使って、モデルのトレーニング（学習）を行います。\n",
        "- モデルをトレーニングには，fit関数を使います。\n",
        "- fit関数には、トレーニングの入力データと教師データ、ミニバッチのサイズ(batch_size)、エポック数などを渡します。\n",
        "- verbose=0とすると、トレーニング状況のログを画面に表示しません。\n",
        "\n",
        "- %% time と書くと、セルの実行にかかった時間を表示することができます。%で始まるコマンドをマジックコマンドといいます。（##  追記しました。magic.impnbで追加説明しています）"
      ]
    },
    {
      "metadata": {
        "id": "nVoXHSgAB5Sx",
        "colab_type": "code",
        "colab": {}
      },
      "cell_type": "code",
      "source": [
        "%%time\n",
        "epochs = 5000\n",
        "history = autoencoder.fit(X_train, \n",
        "                          X_train,\n",
        "                          epochs=epochs,\n",
        "                          batch_size=None,                    \n",
        "                          verbose=0)"
      ],
      "execution_count": 0,
      "outputs": []
    },
    {
      "metadata": {
        "id": "7flBx0ReB5S0",
        "colab_type": "text"
      },
      "cell_type": "markdown",
      "source": [
        "- fit関数の戻り値のhistoryオブジェクトには、各エポックでのloss関数の推移などが辞書型のデータとして記録されます。\n",
        "- plot関数で表示してみましょう。"
      ]
    },
    {
      "metadata": {
        "id": "JMGtkFBkB5S0",
        "colab_type": "code",
        "colab": {}
      },
      "cell_type": "code",
      "source": [
        "pd.DataFrame(history.history['loss'], columns=['loss']).plot()"
      ],
      "execution_count": 0,
      "outputs": []
    },
    {
      "metadata": {
        "id": "wkPSUnXDB5S4",
        "colab_type": "text"
      },
      "cell_type": "markdown",
      "source": [
        "# 6. 評価\n",
        "\n",
        "### テストデータとオートエンコーダの出力との比較\n",
        "- テストデータを使って、トレーニング済みモデルの評価を行います。\n",
        "- predict関数を使い、トレーニング済みモデルにテストデータを適用します。predict関数の戻り値は、Numpy Arrayです。"
      ]
    },
    {
      "metadata": {
        "id": "V57IRBQbB5S4",
        "colab_type": "code",
        "colab": {}
      },
      "cell_type": "code",
      "source": [
        "decoded = pd.DataFrame(autoencoder.predict(X_test))"
      ],
      "execution_count": 0,
      "outputs": []
    },
    {
      "metadata": {
        "id": "BJdk2kG0B5S7",
        "colab_type": "text"
      },
      "cell_type": "markdown",
      "source": [
        "- 入力したテスト用データと、モデルの出力との距離として、各要素の差の二乗和の平方根を求めます。\n",
        "- 結果をplotしてみましょう。"
      ]
    },
    {
      "metadata": {
        "id": "xjHPv2f3B5S8",
        "colab_type": "code",
        "colab": {}
      },
      "cell_type": "code",
      "source": [
        "dist = np.sqrt( np.sum( (decoded - X_test)**2, axis=1))\n",
        "dist.plot()"
      ],
      "execution_count": 0,
      "outputs": []
    },
    {
      "metadata": {
        "id": "k6AYoopTB5S_",
        "colab_type": "text"
      },
      "cell_type": "markdown",
      "source": [
        "### 異常の判定\n",
        "- 閾値の設定は、対象とするに問題領域に応じて適当に定める必要があります。\n",
        "- 今回はテストデータに異常が含まれているという前提で、ピークの80%の値を閾値とし、閾値を超えるものを異常とみなします。"
      ]
    },
    {
      "metadata": {
        "id": "gYKkWHd_B5TA",
        "colab_type": "code",
        "colab": {}
      },
      "cell_type": "code",
      "source": [
        "ax = dist.plot()\n",
        "ax.axhline(y=dist.max() * 0.8, color='red', linestyle='--')"
      ],
      "execution_count": 0,
      "outputs": []
    },
    {
      "metadata": {
        "id": "HiFPogsdB5TE",
        "colab_type": "text"
      },
      "cell_type": "markdown",
      "source": [
        "- 閾値を超える点のインデックスを取得してみます。"
      ]
    },
    {
      "metadata": {
        "id": "8WecHvElB5TF",
        "colab_type": "code",
        "colab": {}
      },
      "cell_type": "code",
      "source": [
        "dist[dist > dist.max() * 0.8].index"
      ],
      "execution_count": 0,
      "outputs": []
    },
    {
      "metadata": {
        "id": "90kPf2NNg0JI",
        "colab_type": "code",
        "colab": {}
      },
      "cell_type": "code",
      "source": [
        ""
      ],
      "execution_count": 0,
      "outputs": []
    }
  ]
}