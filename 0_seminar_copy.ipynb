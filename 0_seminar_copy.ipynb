{
  "nbformat": 4,
  "nbformat_minor": 0,
  "metadata": {
    "colab": {
      "name": "0_seminar_copy.ipynb",
      "version": "0.3.2",
      "provenance": [],
      "include_colab_link": true
    },
    "kernelspec": {
      "display_name": "Python 3",
      "language": "python",
      "name": "python3"
    }
  },
  "cells": [
    {
      "cell_type": "markdown",
      "metadata": {
        "id": "view-in-github",
        "colab_type": "text"
      },
      "source": [
        "<a href=\"https://colab.research.google.com/github/unoki/colabtest/blob/master/0_seminar_copy.ipynb\" target=\"_parent\"><img src=\"https://colab.research.google.com/assets/colab-badge.svg\" alt=\"Open In Colab\"/></a>"
      ]
    },
    {
      "metadata": {
        "colab_type": "code",
        "id": "z1OjrcZ6PWmF",
        "colab": {}
      },
      "cell_type": "code",
      "source": [
        "from google.colab import drive\n",
        "drive.mount('/gdrive')"
      ],
      "execution_count": 0,
      "outputs": []
    },
    {
      "metadata": {
        "colab_type": "code",
        "id": "_R8FQ7PuPa1v",
        "colab": {}
      },
      "cell_type": "code",
      "source": [
        "cd \"/gdrive/My Drive/Colab Notebooks\""
      ],
      "execution_count": 0,
      "outputs": []
    },
    {
      "metadata": {
        "colab_type": "code",
        "id": "-DRP6q0IPy6k",
        "colab": {}
      },
      "cell_type": "code",
      "source": [
        "!git init\n",
        "!git clone https://github.com/unoki/jasla20190202gitripo"
      ],
      "execution_count": 0,
      "outputs": []
    },
    {
      "metadata": {
        "colab_type": "code",
        "id": "fflA_y4YP4g_",
        "colab": {}
      },
      "cell_type": "code",
      "source": [
        "rm -rf jasla20190202gitripo/.git"
      ],
      "execution_count": 0,
      "outputs": []
    },
    {
      "metadata": {
        "colab_type": "code",
        "id": "l8QS9gvbSh4I",
        "colab": {}
      },
      "cell_type": "code",
      "source": [
        "cp -Rp jasla_master_20190202 jasla_rensyuu_20190202"
      ],
      "execution_count": 0,
      "outputs": []
    }
  ]
}