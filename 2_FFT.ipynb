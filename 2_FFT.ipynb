{
  "nbformat": 4,
  "nbformat_minor": 0,
  "metadata": {
    "colab": {
      "name": "2_FFT.ipynb",
      "version": "0.3.2",
      "provenance": [],
      "collapsed_sections": [],
      "include_colab_link": true
    },
    "kernelspec": {
      "name": "python3",
      "display_name": "Python 3"
    },
    "accelerator": "TPU"
  },
  "cells": [
    {
      "cell_type": "markdown",
      "metadata": {
        "id": "view-in-github",
        "colab_type": "text"
      },
      "source": [
        "<a href=\"https://colab.research.google.com/github/unoki/colabtest/blob/master/2_FFT.ipynb\" target=\"_parent\"><img src=\"https://colab.research.google.com/assets/colab-badge.svg\" alt=\"Open In Colab\"/></a>"
      ]
    },
    {
      "metadata": {
        "id": "H1CS6iei9Fwt",
        "colab_type": "text"
      },
      "cell_type": "markdown",
      "source": [
        "# 第２章　高速フーリエ変換による周波数分析（プログラム）\n",
        "\n",
        "第２章では、Numpyライブラリに含まれる高速フーリエ変換（FFT）モジュールを用いて、周波数分析を行います。\n",
        "\n",
        "周波数分析は、周期性のあるデータの概要把握に役に立ちます。周波数分析の結果はニューラルネットワークの特徴量として利用することができます。機械学習の精度を上げるためるために、時系列データのノイズ除去や特定の周波数範囲のデータを削除するフィルター処理は有効です。\n",
        "\n",
        "難しい数式展開を知らなくても、Pythonを使えば簡単に周波数分析ができることを体感してください。\n",
        "本章では、Matplolibを使った可視化のテクニックについても紹介します。\n",
        "\n",
        "\n",
        "### 学習項目\n",
        "\n",
        "1. 準備\n",
        "2. データの読み込みと確認\n",
        "3. 高速フーリエ変換（FFT）\n",
        "4. 逆フーリエ高速変換（IFFT）\n",
        "5. ローパスフィルター\n",
        "6. ピークの検出と可視化\n",
        "\n",
        "\n",
        "### 使用するファイル\n",
        "- 2_FFT.ipynb （このファイルです）\n",
        "- data/fft.csv (データファイル)\n",
        "\n",
        "### データ\n",
        "- 練習用に作成した波形データです。\n",
        "- サンプリング周波数は100Hzで、256点のサンプルが含まれています。すなわち、10ms間隔（１秒あたり100個)で、2.56秒分のデータからなります。\n",
        "- csvファイルの1列目は最初のサンプルを０秒とした時刻、2列目は対応する時刻の値です。\n",
        "<br>\n",
        "\n",
        "\n",
        "      \n",
        "# 1. 準備\n",
        "###  必要なライブラリの読み込み\n",
        "\n",
        "- Pandas：csvファイルの読み込みに使います。\n",
        "- NumPy：FFTの機能を使います。\n",
        "- Matplotlib：グラフ描画ライブラリです。データの可視化に使います。Pandasのplotよりも細かい指定ができます。\n",
        "- SciPy：高水準の科学技術計算ライブラリです。SciPyに含まれるSignalパッケージを使ってピーク値の検出を行います。\n"
      ]
    },
    {
      "metadata": {
        "id": "G3uj43TD9Fwv",
        "colab_type": "code",
        "colab": {}
      },
      "cell_type": "code",
      "source": [
        "import numpy as np\n",
        "import matplotlib.pyplot as plt\n",
        "import matplotlib as mpl\n",
        "import pandas as pd\n",
        "from scipy import signal"
      ],
      "execution_count": 0,
      "outputs": []
    },
    {
      "metadata": {
        "id": "V5l6FHky9Fwx",
        "colab_type": "text"
      },
      "cell_type": "markdown",
      "source": [
        "### グラフのデフォルト表示サイズの変更\n",
        "セミナー中に画面をプロジェクターに投影するため、図の大きさを大きく変更しています。通常は不要です。\n",
        "\n",
        "※ 以後の章でも断りなく同様の設定変更を行います。"
      ]
    },
    {
      "metadata": {
        "id": "brqPMEV49Fwy",
        "colab_type": "code",
        "colab": {}
      },
      "cell_type": "code",
      "source": [
        "mpl.rcParams['figure.figsize'] = 14, 4"
      ],
      "execution_count": 0,
      "outputs": []
    },
    {
      "metadata": {
        "id": "oWYrPyG09Fw1",
        "colab_type": "text"
      },
      "cell_type": "markdown",
      "source": [
        "### カレントディレクトリの移動\n",
        "- 本セミナーでは、データの保存場所としてGoogle Driveを利用します。\n",
        "- Google Driveをマウントし、\n",
        "- 相対パスとしてデータにアクセスできるように、カレントディレクトリを移動しておきます。\n",
        "- Google Driveを使わない場合には、このセルをコメントアウトしてください。\n",
        "\n",
        "※ 以後の章でも断りなく同様のカレントディレクトリの移動を行います。"
      ]
    },
    {
      "metadata": {
        "id": "v9UTDrbd9Fw2",
        "colab_type": "code",
        "colab": {}
      },
      "cell_type": "code",
      "source": [
        "from google.colab import drive\n",
        "drive.mount('/gdrive')\n",
        "%cd \"/gdrive/My Drive/Colab Notebooks/jasla_rensyuu_20190202\""
      ],
      "execution_count": 0,
      "outputs": []
    },
    {
      "metadata": {
        "id": "JMhHtZuhETs9",
        "colab_type": "code",
        "colab": {}
      },
      "cell_type": "code",
      "source": [
        "ls -l"
      ],
      "execution_count": 0,
      "outputs": []
    },
    {
      "metadata": {
        "id": "gxnzlSpT9Fw4",
        "colab_type": "text"
      },
      "cell_type": "markdown",
      "source": [
        "\n",
        "\n",
        "# 2. データの読み込みと確認\n",
        "\n",
        "### CSVファイルからデータを読み込む\n",
        "- csvファイルから Pandas の DataFrame としてデータを読み込みます。\n",
        "- read_csv 関数を使います。\n",
        "- パラメータとして、ファイル名を指定します。\n",
        "- 変数 df に、データを読み込んでみましょう。\n",
        "- csvファイルの１列目はDataFrameのindexとします。index_colパラメータで指定します。"
      ]
    },
    {
      "metadata": {
        "id": "XAtn5DCjD8fu",
        "colab_type": "code",
        "colab": {}
      },
      "cell_type": "code",
      "source": [
        "df = pd.read_csv('data/fft.csv', index_col=0)"
      ],
      "execution_count": 0,
      "outputs": []
    },
    {
      "metadata": {
        "id": "Bp_8tRxF9Fw7",
        "colab_type": "text"
      },
      "cell_type": "markdown",
      "source": [
        "### データのサイズの確認\n",
        "\n",
        "- データの行と列の数を確認するには、shape を使います。\n",
        "- shapeは関数ではないので、カッコが不要です。"
      ]
    },
    {
      "metadata": {
        "id": "DhM7zLUU9Fw8",
        "colab_type": "code",
        "colab": {}
      },
      "cell_type": "code",
      "source": [
        "df."
      ],
      "execution_count": 0,
      "outputs": []
    },
    {
      "metadata": {
        "id": "rCKJpz8I9FxB",
        "colab_type": "text"
      },
      "cell_type": "markdown",
      "source": [
        "- 読み込んだデータがSeriesではなく、1列のデータからなるDataFrameであることに注意が必要です。"
      ]
    },
    {
      "metadata": {
        "id": "Aku_RTor9FxB",
        "colab_type": "text"
      },
      "cell_type": "markdown",
      "source": [
        "### データの一部を表示\n",
        "\n",
        "- データの一部を表示するには、head関数や、tail関数を使います。\n",
        "- head関数とtail関数は、表示する行数を引数にとります。（デフォルト値:5）"
      ]
    },
    {
      "metadata": {
        "id": "rEoXysTN9FxC",
        "colab_type": "code",
        "colab": {}
      },
      "cell_type": "code",
      "source": [
        "df."
      ],
      "execution_count": 0,
      "outputs": []
    },
    {
      "metadata": {
        "id": "RFZDFDtH9FxG",
        "colab_type": "text"
      },
      "cell_type": "markdown",
      "source": [
        "### グラフの表示\n",
        "\n",
        "- matplotlibライブラリのpyplotモジュールに含まれるplotメソッドを使います。\n",
        "- matplotlib.pyplotは、pltという名前でimportしていました。\n",
        "- plot関数にDataFrameを渡します。"
      ]
    },
    {
      "metadata": {
        "id": "zOfqcku-9FxG",
        "colab_type": "code",
        "colab": {}
      },
      "cell_type": "code",
      "source": [
        "plt.plot(df)"
      ],
      "execution_count": 0,
      "outputs": []
    },
    {
      "metadata": {
        "id": "yW496_yH9FxK",
        "colab_type": "text"
      },
      "cell_type": "markdown",
      "source": [
        "\n",
        "######  （メモ）可視化ライブラリについて\n",
        "本セミナーシリーズでは、2018年1月にはSeabornを、2018年12月にはPandasのplot関数を中心に紹介しました。今回は主にmatplotlibを使います。Seabornは機能豊富です。Pandas plotはDataFrameの可視化がとてもお手軽にできます。matplotlibは初学者にとってとっつきにくい部分がありますがPandasのplotよりもグラフの体裁を細かく指定できます。\n"
      ]
    },
    {
      "metadata": {
        "id": "R-_d4KJ-9FxK",
        "colab_type": "text"
      },
      "cell_type": "markdown",
      "source": [
        "\n",
        "# 3. 高速フーリエ変換（FFT）"
      ]
    },
    {
      "metadata": {
        "id": "hlKH7u0P9FxL",
        "colab_type": "text"
      },
      "cell_type": "markdown",
      "source": [
        "###  FFTの実行\n",
        "\n",
        "- numpyライブラリに含まれるfftモジュールのfft関数を使います。 (https://docs.scipy.org/doc/numpy-1.15.0/reference/generated/numpy.fft.fft.html)\n",
        "- FFTの処理結果は、numpyのndarrayで、値は複素数で取得できます。\n",
        "- FFTでは、データの個数を2のn乗個にする必要があります。\n",
        "\n"
      ]
    },
    {
      "metadata": {
        "scrolled": false,
        "id": "zhuKTu4h9FxM",
        "colab_type": "code",
        "colab": {}
      },
      "cell_type": "code",
      "source": [
        "F = np.fft.fft(df['f']) "
      ],
      "execution_count": 0,
      "outputs": []
    },
    {
      "metadata": {
        "id": "Wt5LQ1_L9FxP",
        "colab_type": "text"
      },
      "cell_type": "markdown",
      "source": [
        "### FFTの出力結果から絶対値を求め、振幅のスケールを合わせる\n",
        "\n",
        "- 結果を確認するためには、絶対値を求め複素数を実数に変換します。\n",
        "- 信号の振幅のスケールに合わせるために、データの数で割って２倍します。\n",
        "- 絶対値の計算には、numpyのabs関数を使います。"
      ]
    },
    {
      "metadata": {
        "id": "5Qp9pSw37jsA",
        "colab_type": "code",
        "colab": {}
      },
      "cell_type": "code",
      "source": [
        "### 印刷したテキストの書き方と変えました。\n",
        "# F_abs = np.abs(F[:F.size]) / df.size * 2"
      ],
      "execution_count": 0,
      "outputs": []
    },
    {
      "metadata": {
        "id": "eTtHWjef9FxQ",
        "colab_type": "code",
        "colab": {}
      },
      "cell_type": "code",
      "source": [
        "F_abs = np.abs(F) / df.size * 2"
      ],
      "execution_count": 0,
      "outputs": []
    },
    {
      "metadata": {
        "id": "lkbjhm8T9FxS",
        "colab_type": "text"
      },
      "cell_type": "markdown",
      "source": [
        "### 結果をグラフで表示\n",
        "\n",
        "- matplotlibのplot関数を使って、結果を表示してみます。\n",
        "    - plot関数は、plot(x, y) またはplot(y) という呼び方ができます。\n",
        "- matplotlibでは軸のラベルを指定することができます。\n",
        "    - 横軸のラベルは、xlabelで指定します。\n",
        "    - 縦軸のラベルは、ylabelで指定します。\n",
        "    - フォントのサイズも指定できます。\n",
        "- 横軸を周波数にしましょう。\n",
        "    - FFTは、サンプリング周波数までの値が出力されます。今回のサンプリング周波数は100Hzでした。\n",
        "    - 横軸の値を決めるため、numpyのlinspace関数で、等差数列を作ります。\n",
        "    - linspace関数には、パラメータとして(数列の始点, 数列の終点,分割数)を指定します。"
      ]
    },
    {
      "metadata": {
        "id": "2ogo5vuy9FxT",
        "colab_type": "code",
        "colab": {}
      },
      "cell_type": "code",
      "source": [
        "plt.xlabel('Frequency(Hz)', fontsize=14)\n",
        "plt.ylabel('Amplitude', fontsize=14)\n",
        "fq = np.linspace(0, 100, df.size)\n",
        "plt.plot(fq, F_abs)"
      ],
      "execution_count": 0,
      "outputs": []
    },
    {
      "metadata": {
        "id": "f2Oa_wUx9FxW",
        "colab_type": "text"
      },
      "cell_type": "markdown",
      "source": [
        "### 有効範囲のみを表示する\n",
        "\n",
        "- FFTの結果の有効範囲は、サンプリング周波数の1/2までです。\n",
        "- サンプリング周波数の1/2の値を、ナイキスト周波数と呼びます。\n",
        "- FFTにより得られる結果は、ナイキスト周波数を境に左右対称となります。\n",
        "- 右半分を左半分の虚像とよび、無視する必要があります。"
      ]
    },
    {
      "metadata": {
        "id": "8ekGwayf9FxX",
        "colab_type": "code",
        "colab": {}
      },
      "cell_type": "code",
      "source": [
        "N = int(F_abs.size / 2)\n",
        "plt.plot(fq[:N], F_abs[:N])\n",
        "\n",
        "## 追記しました。\n",
        "#plt.axvspan(8, 50, color='red', alpha=0.1) \n",
        "#plt.axvline(x=8, color='r', linestyle='--')"
      ],
      "execution_count": 0,
      "outputs": []
    },
    {
      "metadata": {
        "id": "PGGs-Siq9Fxb",
        "colab_type": "text"
      },
      "cell_type": "markdown",
      "source": [
        "以上で、時間領域の信号を、周波数領域に変換することができました。元の波形は、３つの周波数の正弦波から構成されていることが分かりました。\n"
      ]
    },
    {
      "metadata": {
        "id": "91Wp-zyX9Fxc",
        "colab_type": "text"
      },
      "cell_type": "markdown",
      "source": [
        "\n",
        "# 4. 逆フーリエ高速変換（IFFT）\n",
        "\n",
        "FFTの結果に対して逆フーリエ高速変換（IFFT）を行うことで元の波形に戻すことができるか、確認してみましょう。\n",
        "\n",
        "###  逆FFTの実行\n",
        "- numpyライブラリに含まれるfftモジュールのifft関数を使います。 (https://docs.scipy.org/doc/numpy-1.15.0/reference/generated/numpy.fft.ifft.html)\n",
        "- FFTの結果をそのままifft関数に渡して逆FFTをしてみましょう。\n",
        "- IFFTの結果は、複素数で戻ってきます。\n",
        "- 実部を取り出してプロットしてみましょう。実部は.realプロパティで取得することができます。"
      ]
    },
    {
      "metadata": {
        "id": "WVmRQYrr9Fxe",
        "colab_type": "code",
        "colab": {}
      },
      "cell_type": "code",
      "source": [
        "fi = np.fft.ifft(F)\n",
        "fi_real = fi.real"
      ],
      "execution_count": 0,
      "outputs": []
    },
    {
      "metadata": {
        "id": "W2XNRTBV9Fxi",
        "colab_type": "text"
      },
      "cell_type": "markdown",
      "source": [
        "### 結果をグラフで表示\n",
        "\n",
        "- matplotlibのplot関数を使って、結果を表示してみます。\n",
        "- 横軸は時間です。単位を秒にしましょう。\n",
        "- numpy arrange関数は、等差数列を生成します（https://docs.scipy.org/doc/numpy-1.15.0/reference/generated/numpy.arange.html )  　# 追記しました。\n"
      ]
    },
    {
      "metadata": {
        "id": "vKu3kljP9Fxj",
        "colab_type": "code",
        "colab": {}
      },
      "cell_type": "code",
      "source": [
        "plt.xlabel('time(sec)')\n",
        "plt.ylabel('signal')\n",
        "t = np.arange(0, fi_real.size/100, 1/100) # 時間軸を秒にする\n",
        "plt.plot(t, fi_real)"
      ],
      "execution_count": 0,
      "outputs": []
    },
    {
      "metadata": {
        "id": "vy9EXf3b9Fxn",
        "colab_type": "text"
      },
      "cell_type": "markdown",
      "source": [
        "FFTの結果を逆FFTすることで、元の波形とほぼ同じ形に戻ることが分かりました。"
      ]
    },
    {
      "metadata": {
        "id": "OM028TfF9Fxo",
        "colab_type": "text"
      },
      "cell_type": "markdown",
      "source": [
        "# 5. ローパスフィルター"
      ]
    },
    {
      "metadata": {
        "id": "_PnNZ_v69Fxo",
        "colab_type": "text"
      },
      "cell_type": "markdown",
      "source": [
        "FFTの結果（周波数領域）から、指定した値より高い周波数のデータカットします。カット後のデータを逆FFTをし、先ほどの結果と比べてみましょう。"
      ]
    },
    {
      "metadata": {
        "id": "3BuVuO0f9Fxp",
        "colab_type": "text"
      },
      "cell_type": "markdown",
      "source": [
        "###  データの書き換え\n",
        "- 閾値を変数fcに設定します。ここでは8Hzとしました。\n",
        "- 元のデータを残しておきたいので、FFTの結果Fを別な変数F1にコピーします。\n",
        "- fcよりも高い周波数のデータをゼロに書き換えます。"
      ]
    },
    {
      "metadata": {
        "id": "JAiXJxG19Fxp",
        "colab_type": "code",
        "colab": {}
      },
      "cell_type": "code",
      "source": [
        "fc = 8 \n",
        "F1 = F.copy()\n",
        "F1[(fq > fc)] = 0"
      ],
      "execution_count": 0,
      "outputs": []
    },
    {
      "metadata": {
        "id": "U3w0qQ2CDCuV",
        "colab_type": "code",
        "colab": {}
      },
      "cell_type": "code",
      "source": [
        "# 追記しました。\n",
        "plt.plot(fq, np.abs(F1))"
      ],
      "execution_count": 0,
      "outputs": []
    },
    {
      "metadata": {
        "id": "HqiJzE02Dljc",
        "colab_type": "code",
        "colab": {}
      },
      "cell_type": "code",
      "source": [
        "### 追記しました。\n",
        "# F1[:] = 0\n",
        "# F1[((fq < 2.1) & (fq > 1.9))] = 1\n",
        "# plt.plot(fq, F1)"
      ],
      "execution_count": 0,
      "outputs": []
    },
    {
      "metadata": {
        "id": "K48DeDX99Fxr",
        "colab_type": "text"
      },
      "cell_type": "markdown",
      "source": [
        "###  逆FFTの実行\n",
        "- numpy.fft.ifft関数を使います。\n",
        "- 実部を取り出して振幅を元のスケールに戻します。すでに虚像をカットしているのでスケールを合わせるために値を2倍にします。"
      ]
    },
    {
      "metadata": {
        "id": "josPWen49Fxs",
        "colab_type": "code",
        "colab": {}
      },
      "cell_type": "code",
      "source": [
        "F_ifft = np.fft.ifft(F1) \n",
        "F_ifft_real = F_ifft.real * 2 "
      ],
      "execution_count": 0,
      "outputs": []
    },
    {
      "metadata": {
        "id": "obXMzGMS9Fxv",
        "colab_type": "text"
      },
      "cell_type": "markdown",
      "source": [
        "### 結果をグラフで表示\n",
        "\n",
        "- matplotlibのplotを使って、結果を表示してみます。\n",
        "- 横軸は時間です。単位を秒にしましょう。"
      ]
    },
    {
      "metadata": {
        "id": "rotJDvR79Fxw",
        "colab_type": "code",
        "colab": {}
      },
      "cell_type": "code",
      "source": [
        "t = np.arange(0, F_ifft_real.size/100, 1/100) # 時間軸を秒にする\n",
        "plt.xlabel('time(sec)')\n",
        "plt.ylabel('signal(filtered)')\n",
        "plt.plot(t, F_ifft_real)"
      ],
      "execution_count": 0,
      "outputs": []
    },
    {
      "metadata": {
        "id": "woIbfpJM9Fxz",
        "colab_type": "text"
      },
      "cell_type": "markdown",
      "source": [
        "# 6. ピークの検出と可視化"
      ]
    },
    {
      "metadata": {
        "id": "NcBiH_FG9Fxz",
        "colab_type": "text"
      },
      "cell_type": "markdown",
      "source": [
        "SciPyのsignalパッケージにはピーク（極大、極小）を自動で検出する便利な機能があります。検出されたピーク値をmatplotlibのアノテーションを使って可視化してみましょう。\n",
        "\n",
        "### ピークの検出\n",
        "- signal.argrelmax関数で極大値が、signal.argrelmin関数で極小値のインデックスが取得できます\n",
        "- 今回は、signal.argrelmax関数を使って、極大値を検出してみましょう。\n",
        "- orderパラメータで検出の際に比較をする両側のデータの範囲を指定できます。\n",
        "- 結果を変数max_idxに代入しましょう。\n",
        "- 結果はndarrayのtupleで戻ってきます。ndarrayとして取り出すため[0]を付けています。"
      ]
    },
    {
      "metadata": {
        "id": "6Q_VBXes9Fxz",
        "colab_type": "code",
        "colab": {}
      },
      "cell_type": "code",
      "source": [
        "max_idx = signal.argrelmax(F_abs, order=1)[0]\n",
        "\n",
        "# 虚像(後半)を除外\n",
        "max_idx = max_idx[ (max_idx <= 100/2)]"
      ],
      "execution_count": 0,
      "outputs": []
    },
    {
      "metadata": {
        "id": "_XKDPPC0Ewpz",
        "colab_type": "code",
        "colab": {}
      },
      "cell_type": "code",
      "source": [
        "max_idx"
      ],
      "execution_count": 0,
      "outputs": []
    },
    {
      "metadata": {
        "id": "h72qNmxV9Fx2",
        "colab_type": "text"
      },
      "cell_type": "markdown",
      "source": [
        "### 結果をグラフで表示\n",
        "\n",
        "- matplotlibのplotを使って、結果を表示します。\n",
        "( https://matplotlib.org/tutorials/introductory/pyplot.html )\n",
        "- annotate関数でアノテーションをつけることができます。ピークに周波数をテキストで表示してみました。\n",
        "(https://matplotlib.org/api/_as_gen/matplotlib.pyplot.annotate.html)"
      ]
    },
    {
      "metadata": {
        "id": "NoZcBmWC9Fx3",
        "colab_type": "code",
        "colab": {}
      },
      "cell_type": "code",
      "source": [
        "plt.xlabel('Frequency(Hz)', fontsize=14)\n",
        "plt.ylabel('Amplitude', fontsize=14)\n",
        "\n",
        "plt.axis([0, 100/2,0, max(F_abs)*1.5])\n",
        "plt.plot(fq, F_abs)\n",
        "\n",
        "plt.plot(fq[max_idx], F_abs[max_idx],'ro')\n",
        "\n",
        "# グラフにピークの周波数をテキストで表示\n",
        "for i in range(len(max_idx)):\n",
        "    plt.annotate('{0:.0f}(Hz)'.format(np.round(fq[max_idx[i]])),\n",
        "                 xy = (fq[max_idx[i]], F_abs[max_idx[i]]),\n",
        "                 xytext = (10, 20),\n",
        "                 textcoords = 'offset points',\n",
        "                 arrowprops = dict(arrowstyle=\"->\",\n",
        "                                   connectionstyle=\"arc3,rad=.2\")\n",
        "                )"
      ],
      "execution_count": 0,
      "outputs": []
    }
  ]
}