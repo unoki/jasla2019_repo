{
  "nbformat": 4,
  "nbformat_minor": 0,
  "metadata": {
    "colab": {
      "name": "9_har_eda.ipynb",
      "version": "0.3.2",
      "provenance": [],
      "collapsed_sections": [],
      "include_colab_link": true
    },
    "kernelspec": {
      "name": "python3",
      "display_name": "Python 3"
    },
    "accelerator": "TPU"
  },
  "cells": [
    {
      "cell_type": "markdown",
      "metadata": {
        "id": "view-in-github",
        "colab_type": "text"
      },
      "source": [
        "<a href=\"https://colab.research.google.com/github/unoki/colabtest/blob/master/9_har_eda.ipynb\" target=\"_parent\"><img src=\"https://colab.research.google.com/assets/colab-badge.svg\" alt=\"Open In Colab\"/></a>"
      ]
    },
    {
      "metadata": {
        "id": "OC4cCQB8C3Rn",
        "colab_type": "text"
      },
      "cell_type": "markdown",
      "source": [
        "# 第９章　人の活動の識別：データの基礎分析と前処理（プログラム）\n",
        "\n",
        "第９章では、人の活動識別のためのデータセットを概観し、スケーリングなどの前処理を実施します。また、ディープラーニングの入力データとして次章ですぐに使えるように、3階のテンソルに変換してファイルに保存します。\n",
        "\n",
        "\n",
        "### 学習項目\n",
        "\n",
        "1. 準備\n",
        "2. データの読み込み\n",
        "3. データの概要の確認\n",
        "4. ディープラーニング入力用にデータを変換\n",
        "5. ファイルに保存\n",
        "\n",
        "### 使用するファイル\n",
        "- 9_har_eda.ipynb （このファイルです）\n",
        "- data/uci_har/ 以下にある20のtxtファイル\n",
        "\n",
        "\n",
        "### データセット\n",
        "\n",
        "- UCI Machine Learning Repositoryで公開されているHuman Activity Recognition Using Smartphones Data Set から抜粋したもの。\n",
        "- データは、公開時点で訓練用データとテスト用データに分かれている。\n",
        "- ファイルは、スペース区切りのテキストファイル。\n",
        "\n",
        "\n",
        "# 1. 準備\n",
        "###  必要なライブラリの読み込み\n",
        "\n",
        "- Pandas：ファイルの読み込みやデータの確認に使用します。\n",
        "- NumPy：モデル入力用のデータを作成するために使用します。\n",
        "- Seaborn：可視化のためのライブラリです。MatPlotlibのラッパーです。\n",
        "- Sicket-learn：スケーリングに使用します。\n",
        "- keras.utils.np_utils：カテゴリカルデータをOne-hot エンコーディングするために使用します。"
      ]
    },
    {
      "metadata": {
        "id": "2GhqFhYqC3Ro",
        "colab_type": "code",
        "colab": {}
      },
      "cell_type": "code",
      "source": [
        "import numpy as np\n",
        "import pandas as pd\n",
        "import seaborn as sns\n",
        "from  sklearn.preprocessing import MinMaxScaler \n",
        "from keras.utils.np_utils import to_categorical"
      ],
      "execution_count": 0,
      "outputs": []
    },
    {
      "metadata": {
        "id": "ClLpLHSVC3Rt",
        "colab_type": "text"
      },
      "cell_type": "markdown",
      "source": [
        "### カレントディレクトリの移動"
      ]
    },
    {
      "metadata": {
        "id": "8j4hZDqoC3Ru",
        "colab_type": "code",
        "colab": {}
      },
      "cell_type": "code",
      "source": [
        "from google.colab import drive\n",
        "drive.mount('/gdrive')\n",
        "%cd \"/gdrive/My Drive/Colab Notebooks/jasla_rensyuu_20190202\""
      ],
      "execution_count": 0,
      "outputs": []
    },
    {
      "metadata": {
        "id": "BtOFcmS_C3Rw",
        "colab_type": "text"
      },
      "cell_type": "markdown",
      "source": [
        "### 参照用変数の準備\n",
        "- アクティビティの番号と内容の対応が取りやすくなるように、辞書型の変数を定義しておきます。\n",
        "- class_num は、アクティビティの数を代入しておきます。\n",
        "- nrowsには、ファイルの読み込み行数を設定します。すべてのデータを読み込む場合はNoneを設定します。1回の実行に時間がかかるため、デバッグ中は少ないデータで実行ができるようにします。"
      ]
    },
    {
      "metadata": {
        "id": "8oGpaVEXC3Rx",
        "colab_type": "code",
        "colab": {}
      },
      "cell_type": "code",
      "source": [
        "class_num = 6\n",
        "class_names = {1:'Walking',\n",
        "               2:'Walk upstairs', \n",
        "               3:'Walk downstairs', \n",
        "               4:'Sitting', \n",
        "               5:'Standing', \n",
        "               6:'Laying'}\n",
        "\n",
        "# ファイルの読み込み行数を指定します。最大数はtrain:7352, test:2947です。\n",
        "# nrows = 1000\n",
        "nrows = None"
      ],
      "execution_count": 0,
      "outputs": []
    },
    {
      "metadata": {
        "id": "PoOzaIoCC3R1",
        "colab_type": "text"
      },
      "cell_type": "markdown",
      "source": [
        "# 2.  データの読み込み\n",
        "- データ読み込み用の関数を定義し、まとめて読み込む行数を指定できるようにします。\n",
        "- 関数内でのファイルの読み込みには、Pandasのread_csv関数を使います。\n",
        "- データファイルがスペース区切りのため、sepパラメータに```\"\\s+\"```を指定します。\n",
        "- 一つのファイルを、一つのDataFrameとします。\n",
        "- 必要に応じて、shapeや、headなどでサイズや内容を確認してくみてください。"
      ]
    },
    {
      "metadata": {
        "scrolled": true,
        "id": "n9XU9j5_C3R2",
        "colab_type": "code",
        "colab": {}
      },
      "cell_type": "code",
      "source": [
        "def read_csv(filename, nrows=nrows):\n",
        "    return pd.read_csv(filename, header=None, sep=\"\\s+\", nrows=nrows)\n",
        "\n",
        "# トレーニングデータ\n",
        "y_train = read_csv('data/uci_har/y_train.txt')\n",
        "total_acc_x_train = read_csv('data/uci_har/total_acc_x_train.txt')\n",
        "total_acc_y_train = read_csv('data/uci_har/total_acc_y_train.txt')\n",
        "total_acc_z_train = read_csv('data/uci_har/total_acc_z_train.txt')\n",
        "body_acc_x_train = read_csv('data/uci_har/body_acc_x_train.txt')\n",
        "body_acc_y_train = read_csv('data/uci_har/body_acc_y_train.txt')\n",
        "body_acc_z_train = read_csv('data/uci_har/body_acc_z_train.txt')\n",
        "body_gyro_x_train = read_csv('data/uci_har/body_gyro_x_train.txt')\n",
        "body_gyro_y_train = read_csv('data/uci_har/body_gyro_y_train.txt')\n",
        "body_gyro_z_train = read_csv('data/uci_har//body_gyro_z_train.txt')\n",
        "\n",
        "# テストデータ\n",
        "y_test = read_csv('data/uci_har/y_test.txt')\n",
        "total_acc_x_test = read_csv('data/uci_har/total_acc_x_test.txt')\n",
        "total_acc_y_test = read_csv('data/uci_har/total_acc_y_test.txt')\n",
        "total_acc_z_test = read_csv('data/uci_har/total_acc_z_test.txt')\n",
        "body_acc_x_test = read_csv('data/uci_har/body_acc_x_test.txt')\n",
        "body_acc_y_test = read_csv('data/uci_har/body_acc_y_test.txt')\n",
        "body_acc_z_test = read_csv('data/uci_har/body_acc_z_test.txt')\n",
        "body_gyro_x_test = read_csv('data/uci_har/body_gyro_x_test.txt')\n",
        "body_gyro_y_test = read_csv('data/uci_har/body_gyro_y_test.txt')\n",
        "body_gyro_z_test = read_csv('data/uci_har/body_gyro_z_test.txt')"
      ],
      "execution_count": 0,
      "outputs": []
    },
    {
      "metadata": {
        "id": "wMmWFHD2C3R7",
        "colab_type": "code",
        "colab": {}
      },
      "cell_type": "code",
      "source": [
        "body_gyro_z_test.shape"
      ],
      "execution_count": 0,
      "outputs": []
    },
    {
      "metadata": {
        "id": "8aG_RU_T0Ya1",
        "colab_type": "code",
        "colab": {}
      },
      "cell_type": "code",
      "source": [
        "y_test.shape"
      ],
      "execution_count": 0,
      "outputs": []
    },
    {
      "metadata": {
        "id": "Xo3EvAnqC3R_",
        "colab_type": "text"
      },
      "cell_type": "markdown",
      "source": [
        "# 3. データの概要の確認"
      ]
    },
    {
      "metadata": {
        "id": "-KhFFldoC3SA",
        "colab_type": "text"
      },
      "cell_type": "markdown",
      "source": [
        "### アクティビティによってデータ数に偏りがないか見てみる\n",
        "\n",
        "- 可視化ライブラリとして、seabornを使います。\n",
        "- seabornは、snsという名前でimportしてあります。\n",
        "- seabornのcountplot関数で、ヒストグラムが表示してみましょう。\n",
        "- orderパラメータで、出力する順番を指定できます。\n",
        "- 辞書型のオブジェクトは、.keys()はキーリストを, values()は値のリストを取得できます。\n",
        "- 以下では、map関数を使って、活動の番号を名前に変換しています。"
      ]
    },
    {
      "metadata": {
        "id": "ULJVPwXk0s9c",
        "colab_type": "code",
        "colab": {}
      },
      "cell_type": "code",
      "source": [
        "sns.countplot(y_test[0])"
      ],
      "execution_count": 0,
      "outputs": []
    },
    {
      "metadata": {
        "id": "vd8cK1em0sb-",
        "colab_type": "code",
        "colab": {}
      },
      "cell_type": "code",
      "source": [
        "sns.countplot(y_test[0].map(class_names))"
      ],
      "execution_count": 0,
      "outputs": []
    },
    {
      "metadata": {
        "id": "jsXKkjOE0rqH",
        "colab_type": "code",
        "colab": {}
      },
      "cell_type": "code",
      "source": [
        "sns.countplot(y_test[0].map(class_names), order = class_names.values())"
      ],
      "execution_count": 0,
      "outputs": []
    },
    {
      "metadata": {
        "id": "posGXvjKC3SB",
        "colab_type": "code",
        "colab": {}
      },
      "cell_type": "code",
      "source": [
        "sns.countplot(y=y_test[0].map(class_names), order = class_names.values())"
      ],
      "execution_count": 0,
      "outputs": []
    },
    {
      "metadata": {
        "id": "nYpE-pPvC3SG",
        "colab_type": "text"
      },
      "cell_type": "markdown",
      "source": [
        "### 箱ひげ図で値の分布を見る\n",
        "- アクティビティごとに箱ひげ図の位置が異なっていれば、識別しやすいといえます。"
      ]
    },
    {
      "metadata": {
        "id": "gO19PqFnC3SG",
        "colab_type": "code",
        "colab": {}
      },
      "cell_type": "code",
      "source": [
        "sns.boxplot(x=y_test[0].map(class_names), y=total_acc_x_train.mean(axis=1))"
      ],
      "execution_count": 0,
      "outputs": []
    },
    {
      "metadata": {
        "id": "ClpIOpRbC3SK",
        "colab_type": "text"
      },
      "cell_type": "markdown",
      "source": [
        "### センサー別にデータを表示してみる\n",
        "- 多くのデータを一度にみたいので、データを一列にならべます。pandasのstack関数を使います。\n",
        "- i番目からn個のデータを並べて表示してみましょう。"
      ]
    },
    {
      "metadata": {
        "scrolled": false,
        "id": "DhJOsw7tC3SK",
        "colab_type": "code",
        "colab": {}
      },
      "cell_type": "code",
      "source": [
        "## 修正しました。正：[i:i+n]、誤： [i:n]\n",
        "i=1000\n",
        "n=100\n",
        "pd.concat([total_acc_x_train[i:i+n].stack(), total_acc_y_train[i:i+n].stack(), total_acc_z_train[i:i+n].stack(),\n",
        "          body_gyro_x_train[i:i+n].stack(), body_gyro_y_train[i:i+n].stack(), body_gyro_z_train[i:i+n].stack(),\n",
        "          body_acc_x_train[i:i+n].stack(), body_acc_y_train[i:i+n].stack(), body_acc_z_train[i:i+n].stack()],\n",
        "        axis=1).plot(subplots=True, figsize=(15,20))"
      ],
      "execution_count": 0,
      "outputs": []
    },
    {
      "metadata": {
        "id": "J2ZMDnWOC3SO",
        "colab_type": "text"
      },
      "cell_type": "markdown",
      "source": [
        "# 4. ディープラーニング入力用にデータを変換"
      ]
    },
    {
      "metadata": {
        "id": "nm0SqhZyC3SO",
        "colab_type": "text"
      },
      "cell_type": "markdown",
      "source": [
        "- Kerasのモデルに入力できるよう、データのShapeを (サンプル数, シーケンス長, 次元数) の３階のテンソルに変換します。"
      ]
    },
    {
      "metadata": {
        "id": "PhvvKKpxC3SP",
        "colab_type": "code",
        "colab": {}
      },
      "cell_type": "code",
      "source": [
        "def to_3darray(df_list):\n",
        "    array_list = []\n",
        "    for df in df_list:\n",
        "        nd_array = np.array(df)\n",
        "        array_list.append(\n",
        "            np.reshape(nd_array, \n",
        "                       (nd_array.shape[0], nd_array.shape[1], 1)))\n",
        "    return np.concatenate(array_list, axis=2)\n",
        "\n",
        "# トレーニングデータの特徴量\n",
        "train_df_list = [total_acc_x_train, total_acc_y_train, total_acc_z_train,\n",
        "                 body_acc_x_train, body_acc_y_train, body_acc_z_train,\n",
        "                 body_gyro_x_train, body_gyro_y_train, body_gyro_z_train]\n",
        "X_train = to_3darray(train_df_list)\n",
        "\n",
        "# テストデータの特徴量\n",
        "test_df_list = [total_acc_x_test, total_acc_y_test, total_acc_z_test,\n",
        "                body_acc_x_test, body_acc_y_test, body_acc_z_test,\n",
        "                body_gyro_x_test, body_gyro_y_test, body_gyro_z_test]\n",
        "X_test = to_3darray(test_df_list)"
      ],
      "execution_count": 0,
      "outputs": []
    },
    {
      "metadata": {
        "id": "oXh9366DC3SS",
        "colab_type": "text"
      },
      "cell_type": "markdown",
      "source": [
        "- ScikitLearnのMinMaxScalerを使って、データを0から1の範囲にスケーリングしておきます。"
      ]
    },
    {
      "metadata": {
        "id": "LTfR7rOLC3ST",
        "colab_type": "code",
        "colab": {}
      },
      "cell_type": "code",
      "source": [
        "sc = MinMaxScaler()\n",
        "X_train_scf = sc.fit_transform(X_train.reshape(X_train.shape[0] * X_train.shape[1], X_train.shape[2]))\n",
        "X_train = X_train_scf.reshape(X_train.shape)\n",
        "X_test_scf = sc.transform(X_test.reshape(X_test.shape[0] * X_test.shape[1], X_test.shape[2]))\n",
        "X_test = X_test_scf.reshape(X_test.shape)"
      ],
      "execution_count": 0,
      "outputs": []
    },
    {
      "metadata": {
        "id": "47b-QH_MC3SX",
        "colab_type": "text"
      },
      "cell_type": "markdown",
      "source": [
        "- 正解ラベルをone-hotエンコーディングします。\n",
        "- 取り扱いを容易にするため、1から6の範囲のIDを、0から5の範囲に変換します。"
      ]
    },
    {
      "metadata": {
        "id": "eJ8H-NhtC3SX",
        "colab_type": "code",
        "colab": {}
      },
      "cell_type": "code",
      "source": [
        "Y_train = to_categorical(y_train - 1)\n",
        "Y_test = to_categorical(y_test - 1)"
      ],
      "execution_count": 0,
      "outputs": []
    },
    {
      "metadata": {
        "id": "JpFcBIw2C3SZ",
        "colab_type": "text"
      },
      "cell_type": "markdown",
      "source": [
        "- データのShapeを確認しておきましょう。"
      ]
    },
    {
      "metadata": {
        "id": "QhTJrb2VC3Sb",
        "colab_type": "code",
        "colab": {}
      },
      "cell_type": "code",
      "source": [
        "X_train.shape, y_train.shape, Y_train.shape, X_test.shape, y_test.shape, Y_test.shape"
      ],
      "execution_count": 0,
      "outputs": []
    },
    {
      "metadata": {
        "id": "kEP6DN3ZC3Se",
        "colab_type": "text"
      },
      "cell_type": "markdown",
      "source": [
        "# 5. ファイルに保存\n",
        "- 作成したNumPy ndarrayをファイルに保存します。NumPyのsave関数を使います。拡張子は.npyになります。\n",
        "- 読み込みたいときは、load関数を使います。"
      ]
    },
    {
      "metadata": {
        "id": "dbRZCxvwC3Sf",
        "colab_type": "code",
        "colab": {}
      },
      "cell_type": "code",
      "source": [
        "np.save('data/X_train', X_train)\n",
        "np.save('data/Y_train', Y_train)\n",
        "np.save('data/X_test',  X_test)\n",
        "np.save('data/Y_test', Y_test)"
      ],
      "execution_count": 0,
      "outputs": []
    },
    {
      "metadata": {
        "id": "4QLlgoFj1nHC",
        "colab_type": "code",
        "colab": {}
      },
      "cell_type": "code",
      "source": [
        ""
      ],
      "execution_count": 0,
      "outputs": []
    }
  ]
}